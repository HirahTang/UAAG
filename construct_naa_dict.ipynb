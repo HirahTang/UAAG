{
 "cells": [
  {
   "cell_type": "code",
   "execution_count": 5,
   "metadata": {},
   "outputs": [],
   "source": [
    "from Bio.PDB import PDBParser\n",
    "from rdkit import Chem\n",
    "from rdkit.Chem.rdchem import BondType\n",
    "from rdkit.Chem import ChemicalFeatures\n",
    "from rdkit import RDConfig\n",
    "import os\n",
    "import numpy as np\n",
    "import pickle\n",
    "import json\n",
    "from tqdm import tqdm"
   ]
  },
  {
   "cell_type": "code",
   "execution_count": 2,
   "metadata": {},
   "outputs": [],
   "source": [
    "with open(os.path.join('data/pdb_list.txt'), 'r') as f:\n",
    "        pdb_list = f.readlines()\n",
    "        f.close()\n",
    "        \n",
    "pdb_list = [pdb.strip() for pdb in pdb_list]\n",
    "pdb_list = [pdb for pdb in pdb_list if pdb.endswith('.pdb')]"
   ]
  },
  {
   "cell_type": "code",
   "execution_count": 15,
   "metadata": {},
   "outputs": [],
   "source": [
    "pdb_dir = 'data/pdb/'\n",
    "aa_dict = [\n",
    "        \"Ala\", \"Asx\", \"Cys\", \"Asp\", \"Glu\", \"Phe\", \"Gly\", \"His\", \"Ile\",\n",
    "        \"Lys\", \"Leu\", \"Met\", \"Asn\", \"Pro\", \"Gln\", \"Arg\", \"Ser\", \"Thr\",\n",
    "        \"Sec\", \"Val\", \"Trp\", \"Xaa\", \"Tyr\", \"Glx\",\n",
    "        ]\n",
    "aa_dict = [a.upper() for a in aa_dict]\n",
    "naa_dict = {}\n",
    "start_idx = 24\n",
    "invalid_pdb_list = []"
   ]
  },
  {
   "cell_type": "code",
   "execution_count": 16,
   "metadata": {},
   "outputs": [
    {
     "name": "stderr",
     "output_type": "stream",
     "text": [
      "  0%|          | 27/7038 [00:01<07:01, 16.63it/s][21:38:11] Explicit valence for atom # 1426 C, 5, is greater than permitted\n",
      "  0%|          | 33/7038 [00:01<04:29, 26.00it/s]"
     ]
    },
    {
     "name": "stdout",
     "output_type": "stream",
     "text": [
      "1N7D.pdb\n"
     ]
    },
    {
     "name": "stderr",
     "output_type": "stream",
     "text": [
      "  2%|▏         | 125/7038 [00:08<15:40,  7.35it/s][21:38:18] Explicit valence for atom # 5889 O, 3, is greater than permitted\n",
      "  2%|▏         | 132/7038 [00:09<09:07, 12.61it/s]"
     ]
    },
    {
     "name": "stdout",
     "output_type": "stream",
     "text": [
      "1SZP.pdb\n"
     ]
    },
    {
     "name": "stderr",
     "output_type": "stream",
     "text": [
      "  2%|▏         | 154/7038 [00:10<06:05, 18.84it/s][21:38:20] Explicit valence for atom # 4814 O, 3, is greater than permitted\n",
      "  2%|▏         | 157/7038 [00:10<06:53, 16.66it/s]"
     ]
    },
    {
     "name": "stdout",
     "output_type": "stream",
     "text": [
      "1E50.pdb\n"
     ]
    },
    {
     "name": "stderr",
     "output_type": "stream",
     "text": [
      "  3%|▎         | 188/7038 [00:11<04:54, 23.30it/s][21:38:21] Explicit valence for atom # 635 N, 5, is greater than permitted\n",
      "  3%|▎         | 194/7038 [00:11<03:38, 31.28it/s]"
     ]
    },
    {
     "name": "stdout",
     "output_type": "stream",
     "text": [
      "1KAW.pdb\n"
     ]
    },
    {
     "name": "stderr",
     "output_type": "stream",
     "text": [
      "  3%|▎         | 232/7038 [00:14<07:29, 15.16it/s][21:38:24] Explicit valence for atom # 1713 O, 3, is greater than permitted\n",
      "  3%|▎         | 238/7038 [00:15<05:21, 21.18it/s][21:38:25] Explicit valence for atom # 1118 O, 3, is greater than permitted\n",
      "  3%|▎         | 241/7038 [00:15<07:11, 15.74it/s]"
     ]
    },
    {
     "name": "stdout",
     "output_type": "stream",
     "text": [
      "1HLZ.pdb\n",
      "1QA6.pdb\n"
     ]
    },
    {
     "name": "stderr",
     "output_type": "stream",
     "text": [
      "  4%|▍         | 278/7038 [00:17<07:38, 14.76it/s][21:38:27] \n",
      "\n",
      "****\n",
      "Post-condition Violation\n",
      "Element 'X' not found\n",
      "Violation occurred on line 93 in file /home/conda/feedstock_root/build_artifacts/rdkit_1651075175949/work/Code/GraphMol/PeriodicTable.h\n",
      "Failed Expression: anum > -1\n",
      "****\n",
      "\n",
      "  4%|▍         | 281/7038 [00:17<07:00, 16.08it/s]"
     ]
    },
    {
     "name": "stdout",
     "output_type": "stream",
     "text": [
      "3CHB.pdb\n"
     ]
    },
    {
     "name": "stderr",
     "output_type": "stream",
     "text": [
      "  4%|▍         | 284/7038 [00:18<11:07, 10.11it/s][21:38:28] Explicit valence for atom # 9514 C, 5, is greater than permitted\n",
      "  4%|▍         | 290/7038 [00:18<08:33, 13.13it/s]"
     ]
    },
    {
     "name": "stdout",
     "output_type": "stream",
     "text": [
      "1O17.pdb\n"
     ]
    },
    {
     "name": "stderr",
     "output_type": "stream",
     "text": [
      "  5%|▍         | 319/7038 [00:21<10:59, 10.19it/s][21:38:31] Explicit valence for atom # 96 O, 3, is greater than permitted\n",
      "  5%|▍         | 322/7038 [00:21<09:15, 12.09it/s]"
     ]
    },
    {
     "name": "stdout",
     "output_type": "stream",
     "text": [
      "1RI9.pdb\n"
     ]
    },
    {
     "name": "stderr",
     "output_type": "stream",
     "text": [
      "  5%|▍         | 327/7038 [00:22<11:08, 10.03it/s][21:38:32] \n",
      "\n",
      "****\n",
      "Post-condition Violation\n",
      "Element 'X' not found\n",
      "Violation occurred on line 93 in file /home/conda/feedstock_root/build_artifacts/rdkit_1651075175949/work/Code/GraphMol/PeriodicTable.h\n",
      "Failed Expression: anum > -1\n",
      "****\n",
      "\n",
      "  5%|▍         | 331/7038 [00:22<10:08, 11.02it/s]"
     ]
    },
    {
     "name": "stdout",
     "output_type": "stream",
     "text": [
      "4UAG.pdb\n"
     ]
    },
    {
     "name": "stderr",
     "output_type": "stream",
     "text": [
      "  5%|▌         | 356/7038 [00:23<04:53, 22.80it/s][21:38:33] Explicit valence for atom # 438 C, 7, is greater than permitted\n",
      "  5%|▌         | 362/7038 [00:23<06:06, 18.20it/s]"
     ]
    },
    {
     "name": "stdout",
     "output_type": "stream",
     "text": [
      "1M8O.pdb\n"
     ]
    },
    {
     "name": "stderr",
     "output_type": "stream",
     "text": [
      "  6%|▌         | 400/7038 [00:29<12:35,  8.79it/s][21:38:39] Explicit valence for atom # 627 O, 3, is greater than permitted\n",
      "  6%|▌         | 402/7038 [00:29<11:20,  9.75it/s]"
     ]
    },
    {
     "name": "stdout",
     "output_type": "stream",
     "text": [
      "1YN3.pdb\n"
     ]
    },
    {
     "name": "stderr",
     "output_type": "stream",
     "text": [
      "  6%|▌         | 407/7038 [00:30<10:02, 11.01it/s][21:38:40] Explicit valence for atom # 1653 O, 3, is greater than permitted\n",
      "  6%|▌         | 410/7038 [00:30<09:42, 11.38it/s]"
     ]
    },
    {
     "name": "stdout",
     "output_type": "stream",
     "text": [
      "1YPZ.pdb\n"
     ]
    },
    {
     "name": "stderr",
     "output_type": "stream",
     "text": [
      "  6%|▋         | 442/7038 [00:35<15:47,  6.96it/s][21:38:45] Explicit valence for atom # 838 O, 3, is greater than permitted\n",
      "  6%|▋         | 450/7038 [00:35<08:48, 12.48it/s]"
     ]
    },
    {
     "name": "stdout",
     "output_type": "stream",
     "text": [
      "1EOD.pdb\n"
     ]
    },
    {
     "name": "stderr",
     "output_type": "stream",
     "text": [
      "  6%|▋         | 455/7038 [00:35<06:07, 17.90it/s][21:38:45] Explicit valence for atom # 415 O, 3, is greater than permitted\n",
      "  7%|▋         | 458/7038 [00:35<05:33, 19.72it/s]"
     ]
    },
    {
     "name": "stdout",
     "output_type": "stream",
     "text": [
      "1P3I.pdb\n"
     ]
    },
    {
     "name": "stderr",
     "output_type": "stream",
     "text": [
      "  7%|▋         | 489/7038 [00:38<08:48, 12.40it/s][21:38:48] Explicit valence for atom # 968 O, 3, is greater than permitted\n",
      "  7%|▋         | 493/7038 [00:38<10:09, 10.74it/s]"
     ]
    },
    {
     "name": "stdout",
     "output_type": "stream",
     "text": [
      "2BEO.pdb\n"
     ]
    },
    {
     "name": "stderr",
     "output_type": "stream",
     "text": [
      "[21:38:48] WARNING: not removing hydrogen atom without neighbors\n",
      "  7%|▋         | 510/7038 [00:39<05:33, 19.59it/s][21:38:49] Explicit valence for atom # 1694 O, 3, is greater than permitted\n",
      "  7%|▋         | 517/7038 [00:39<05:55, 18.34it/s]"
     ]
    },
    {
     "name": "stdout",
     "output_type": "stream",
     "text": [
      "1L6O.pdb\n"
     ]
    },
    {
     "name": "stderr",
     "output_type": "stream",
     "text": [
      "[21:38:49] Explicit valence for atom # 1262 O, 3, is greater than permitted\n",
      "  7%|▋         | 520/7038 [00:40<05:26, 19.98it/s]"
     ]
    },
    {
     "name": "stdout",
     "output_type": "stream",
     "text": [
      "1T94.pdb\n"
     ]
    },
    {
     "name": "stderr",
     "output_type": "stream",
     "text": [
      "  7%|▋         | 523/7038 [00:40<11:50,  9.17it/s][21:38:50] Explicit valence for atom # 6583 Mg, 4, is greater than permitted\n",
      "  8%|▊         | 530/7038 [00:41<07:29, 14.49it/s]"
     ]
    },
    {
     "name": "stdout",
     "output_type": "stream",
     "text": [
      "1YST.pdb\n"
     ]
    },
    {
     "name": "stderr",
     "output_type": "stream",
     "text": [
      "  8%|▊         | 554/7038 [00:42<07:33, 14.30it/s][21:38:52] \n",
      "\n",
      "****\n",
      "Post-condition Violation\n",
      "Element 'X' not found\n",
      "Violation occurred on line 93 in file /home/conda/feedstock_root/build_artifacts/rdkit_1651075175949/work/Code/GraphMol/PeriodicTable.h\n",
      "Failed Expression: anum > -1\n",
      "****\n",
      "\n",
      "  8%|▊         | 562/7038 [00:42<05:10, 20.87it/s][21:38:52] \n",
      "\n",
      "****\n",
      "Post-condition Violation\n",
      "Element 'X' not found\n",
      "Violation occurred on line 93 in file /home/conda/feedstock_root/build_artifacts/rdkit_1651075175949/work/Code/GraphMol/PeriodicTable.h\n",
      "Failed Expression: anum > -1\n",
      "****\n",
      "\n"
     ]
    },
    {
     "name": "stdout",
     "output_type": "stream",
     "text": [
      "2G1L.pdb\n",
      "1J5E.pdb\n"
     ]
    },
    {
     "name": "stderr",
     "output_type": "stream",
     "text": [
      "  8%|▊         | 568/7038 [00:43<05:22, 20.03it/s][21:38:53] Explicit valence for atom # 657 O, 3, is greater than permitted\n",
      "  8%|▊         | 571/7038 [00:43<05:09, 20.91it/s][21:38:53] Explicit valence for atom # 1138 C, 5, is greater than permitted\n",
      "  8%|▊         | 577/7038 [00:43<05:30, 19.53it/s]"
     ]
    },
    {
     "name": "stdout",
     "output_type": "stream",
     "text": [
      "1VMG.pdb\n",
      "3SDP.pdb\n"
     ]
    },
    {
     "name": "stderr",
     "output_type": "stream",
     "text": [
      "  8%|▊         | 580/7038 [00:43<05:21, 20.06it/s][21:38:53] Explicit valence for atom # 448 C, 7, is greater than permitted\n",
      "  8%|▊         | 590/7038 [00:44<04:57, 21.69it/s]"
     ]
    },
    {
     "name": "stdout",
     "output_type": "stream",
     "text": [
      "1AG4.pdb\n"
     ]
    },
    {
     "name": "stderr",
     "output_type": "stream",
     "text": [
      " 10%|▉         | 675/7038 [00:48<09:21, 11.33it/s][21:38:59] Explicit valence for atom # 35136 O, 5, is greater than permitted\n",
      " 10%|▉         | 680/7038 [00:49<09:18, 11.39it/s]"
     ]
    },
    {
     "name": "stdout",
     "output_type": "stream",
     "text": [
      "1I96.pdb\n"
     ]
    },
    {
     "name": "stderr",
     "output_type": "stream",
     "text": [
      " 10%|█         | 716/7038 [00:54<11:28,  9.18it/s][21:39:04] Explicit valence for atom # 454 O, 3, is greater than permitted\n",
      " 10%|█         | 722/7038 [00:54<08:06, 12.98it/s]"
     ]
    },
    {
     "name": "stdout",
     "output_type": "stream",
     "text": [
      "2AUW.pdb\n"
     ]
    },
    {
     "name": "stderr",
     "output_type": "stream",
     "text": [
      " 11%|█         | 745/7038 [01:00<19:14,  5.45it/s][21:39:10] Explicit valence for atom # 1473 O, 3, is greater than permitted\n",
      " 11%|█         | 754/7038 [01:00<09:32, 10.98it/s]"
     ]
    },
    {
     "name": "stdout",
     "output_type": "stream",
     "text": [
      "1IGC.pdb\n"
     ]
    },
    {
     "name": "stderr",
     "output_type": "stream",
     "text": [
      " 11%|█         | 763/7038 [01:00<08:14, 12.69it/s][21:39:10] Explicit valence for atom # 1790 O, 3, is greater than permitted\n",
      " 11%|█         | 768/7038 [01:01<07:15, 14.41it/s]"
     ]
    },
    {
     "name": "stdout",
     "output_type": "stream",
     "text": [
      "2BKY.pdb\n"
     ]
    },
    {
     "name": "stderr",
     "output_type": "stream",
     "text": [
      " 11%|█▏        | 797/7038 [01:03<05:58, 17.39it/s][21:39:13] Explicit valence for atom # 516 O, 3, is greater than permitted\n",
      " 11%|█▏        | 800/7038 [01:03<05:16, 19.72it/s][21:39:13] Explicit valence for atom # 904 O, 5, is greater than permitted\n",
      " 11%|█▏        | 803/7038 [01:03<04:53, 21.23it/s]"
     ]
    },
    {
     "name": "stdout",
     "output_type": "stream",
     "text": [
      "1JER.pdb\n",
      "1FRT.pdb\n"
     ]
    },
    {
     "name": "stderr",
     "output_type": "stream",
     "text": [
      " 12%|█▏        | 826/7038 [01:04<04:24, 23.48it/s][21:39:14] \n",
      "\n",
      "****\n",
      "Post-condition Violation\n",
      "Element 'X' not found\n",
      "Violation occurred on line 93 in file /home/conda/feedstock_root/build_artifacts/rdkit_1651075175949/work/Code/GraphMol/PeriodicTable.h\n",
      "Failed Expression: anum > -1\n",
      "****\n",
      "\n",
      " 12%|█▏        | 829/7038 [01:04<05:08, 20.10it/s][21:39:14] Explicit valence for atom # 1763 O, 3, is greater than permitted\n",
      " 12%|█▏        | 836/7038 [01:05<07:03, 14.63it/s]"
     ]
    },
    {
     "name": "stdout",
     "output_type": "stream",
     "text": [
      "4HB1.pdb\n",
      "1M7D.pdb\n"
     ]
    },
    {
     "name": "stderr",
     "output_type": "stream",
     "text": [
      " 13%|█▎        | 919/7038 [01:10<05:17, 19.29it/s][21:39:20] Explicit valence for atom # 1519 C, 7, is greater than permitted\n",
      " 13%|█▎        | 926/7038 [01:10<07:45, 13.13it/s]"
     ]
    },
    {
     "name": "stdout",
     "output_type": "stream",
     "text": [
      "1GNN.pdb\n"
     ]
    },
    {
     "name": "stderr",
     "output_type": "stream",
     "text": [
      " 13%|█▎        | 938/7038 [01:11<05:08, 19.78it/s][21:39:21] Explicit valence for atom # 100 O, 3, is greater than permitted\n",
      " 13%|█▎        | 944/7038 [01:11<04:30, 22.51it/s]"
     ]
    },
    {
     "name": "stdout",
     "output_type": "stream",
     "text": [
      "1MWZ.pdb\n"
     ]
    },
    {
     "name": "stderr",
     "output_type": "stream",
     "text": [
      " 14%|█▎        | 960/7038 [01:12<04:16, 23.71it/s][21:39:22] Explicit valence for atom # 12153 C, 5, is greater than permitted\n",
      " 14%|█▎        | 963/7038 [01:12<05:59, 16.88it/s]"
     ]
    },
    {
     "name": "stdout",
     "output_type": "stream",
     "text": [
      "1P7G.pdb\n"
     ]
    },
    {
     "name": "stderr",
     "output_type": "stream",
     "text": [
      " 14%|█▎        | 966/7038 [01:13<16:16,  6.22it/s][21:39:24] Explicit valence for atom # 22611 O, 3, is greater than permitted\n",
      " 14%|█▍        | 974/7038 [01:14<10:12,  9.90it/s]"
     ]
    },
    {
     "name": "stdout",
     "output_type": "stream",
     "text": [
      "1ZGL.pdb\n"
     ]
    },
    {
     "name": "stderr",
     "output_type": "stream",
     "text": [
      " 14%|█▍        | 983/7038 [01:14<06:07, 16.46it/s][21:39:24] Explicit valence for atom # 1518 C, 5, is greater than permitted\n",
      "[21:39:24] \n",
      "\n",
      "****\n",
      "Post-condition Violation\n",
      "Element 'X' not found\n",
      "Violation occurred on line 93 in file /home/conda/feedstock_root/build_artifacts/rdkit_1651075175949/work/Code/GraphMol/PeriodicTable.h\n",
      "Failed Expression: anum > -1\n",
      "****\n",
      "\n",
      " 14%|█▍        | 995/7038 [01:14<03:27, 29.15it/s]"
     ]
    },
    {
     "name": "stdout",
     "output_type": "stream",
     "text": [
      "1GNM.pdb\n",
      "2AWP.pdb\n"
     ]
    },
    {
     "name": "stderr",
     "output_type": "stream",
     "text": [
      " 14%|█▍        | 999/7038 [01:15<03:45, 26.82it/s][21:39:24] Explicit valence for atom # 398 O, 3, is greater than permitted\n",
      " 14%|█▍        | 1003/7038 [01:15<03:56, 25.50it/s][21:39:25] Explicit valence for atom # 4318 C, 5, is greater than permitted\n"
     ]
    },
    {
     "name": "stdout",
     "output_type": "stream",
     "text": [
      "1PTQ.pdb\n",
      "1KKM.pdb\n"
     ]
    },
    {
     "name": "stderr",
     "output_type": "stream",
     "text": [
      " 15%|█▍        | 1029/7038 [01:16<06:13, 16.10it/s][21:39:26] WARNING: not removing hydrogen atom without neighbors\n",
      "[21:39:26] WARNING: not removing hydrogen atom without neighbors\n",
      "[21:39:26] WARNING: not removing hydrogen atom without neighbors\n",
      "[21:39:26] WARNING: not removing hydrogen atom without neighbors\n",
      "[21:39:26] WARNING: not removing hydrogen atom without neighbors\n",
      "[21:39:26] WARNING: not removing hydrogen atom without neighbors\n",
      "[21:39:26] WARNING: not removing hydrogen atom without neighbors\n",
      "[21:39:26] WARNING: not removing hydrogen atom without neighbors\n",
      "[21:39:26] WARNING: not removing hydrogen atom without neighbors\n",
      "[21:39:26] WARNING: not removing hydrogen atom without neighbors\n",
      "[21:39:26] WARNING: not removing hydrogen atom without neighbors\n",
      "[21:39:26] WARNING: not removing hydrogen atom without neighbors\n",
      "[21:39:26] WARNING: not removing hydrogen atom without neighbors\n",
      "[21:39:26] WARNING: not removing hydrogen atom without neighbors\n",
      "[21:39:26] WARNING: not removing hydrogen atom without neighbors\n",
      "[21:39:26] WARNING: not removing hydrogen atom without neighbors\n",
      "[21:39:26] WARNING: not removing hydrogen atom without neighbors\n",
      "[21:39:26] WARNING: not removing hydrogen atom without neighbors\n",
      "[21:39:26] WARNING: not removing hydrogen atom without neighbors\n",
      "[21:39:26] WARNING: not removing hydrogen atom without neighbors\n",
      "[21:39:26] Explicit valence for atom # 1 O, 3, is greater than permitted\n",
      " 15%|█▍        | 1040/7038 [01:17<03:46, 26.51it/s]"
     ]
    },
    {
     "name": "stdout",
     "output_type": "stream",
     "text": [
      "1F5E.pdb\n"
     ]
    },
    {
     "name": "stderr",
     "output_type": "stream",
     "text": [
      " 15%|█▌        | 1079/7038 [01:19<04:50, 20.54it/s][21:39:29] Explicit valence for atom # 2817 C, 5, is greater than permitted\n",
      " 16%|█▌        | 1092/7038 [01:20<03:30, 28.21it/s]"
     ]
    },
    {
     "name": "stdout",
     "output_type": "stream",
     "text": [
      "1C0P.pdb\n"
     ]
    },
    {
     "name": "stderr",
     "output_type": "stream",
     "text": [
      " 16%|█▌        | 1096/7038 [01:20<04:28, 22.17it/s][21:39:30] Explicit valence for atom # 1622 O, 3, is greater than permitted\n",
      " 16%|█▌        | 1102/7038 [01:20<03:50, 25.70it/s]"
     ]
    },
    {
     "name": "stdout",
     "output_type": "stream",
     "text": [
      "1Q1P.pdb\n"
     ]
    },
    {
     "name": "stderr",
     "output_type": "stream",
     "text": [
      " 16%|█▌        | 1116/7038 [01:22<10:03,  9.82it/s][21:39:32] WARNING: could not find number of expected rings. Switching to an approximate ring finding algorithm.\n",
      " 16%|█▌        | 1131/7038 [01:23<11:06,  8.86it/s][21:39:33] Explicit valence for atom # 6599 O, 3, is greater than permitted\n",
      " 16%|█▌        | 1138/7038 [01:24<06:03, 16.23it/s]"
     ]
    },
    {
     "name": "stdout",
     "output_type": "stream",
     "text": [
      "2AK4.pdb\n"
     ]
    },
    {
     "name": "stderr",
     "output_type": "stream",
     "text": [
      " 17%|█▋        | 1171/7038 [01:26<05:42, 17.15it/s][21:39:36] Explicit valence for atom # 771 O, 3, is greater than permitted\n",
      " 17%|█▋        | 1174/7038 [01:26<05:12, 18.76it/s]"
     ]
    },
    {
     "name": "stdout",
     "output_type": "stream",
     "text": [
      "1ZVN.pdb\n"
     ]
    },
    {
     "name": "stderr",
     "output_type": "stream",
     "text": [
      " 17%|█▋        | 1177/7038 [01:26<05:18, 18.38it/s][21:39:36] Explicit valence for atom # 5393 C, 5, is greater than permitted\n",
      " 17%|█▋        | 1180/7038 [01:26<05:20, 18.25it/s]"
     ]
    },
    {
     "name": "stdout",
     "output_type": "stream",
     "text": [
      "2FD6.pdb\n"
     ]
    },
    {
     "name": "stderr",
     "output_type": "stream",
     "text": [
      " 17%|█▋        | 1185/7038 [01:59<4:00:09,  2.46s/it][21:40:09] Explicit valence for atom # 1188 O, 3, is greater than permitted\n",
      " 17%|█▋        | 1191/7038 [01:59<1:56:29,  1.20s/it]"
     ]
    },
    {
     "name": "stdout",
     "output_type": "stream",
     "text": [
      "1P3G.pdb\n"
     ]
    },
    {
     "name": "stderr",
     "output_type": "stream",
     "text": [
      " 17%|█▋        | 1206/7038 [02:01<25:04,  3.88it/s]  [21:40:11] Explicit valence for atom # 1116 O, 3, is greater than permitted\n",
      " 17%|█▋        | 1208/7038 [02:01<24:48,  3.92it/s]"
     ]
    },
    {
     "name": "stdout",
     "output_type": "stream",
     "text": [
      "1O4X.pdb\n"
     ]
    },
    {
     "name": "stderr",
     "output_type": "stream",
     "text": [
      " 17%|█▋        | 1230/7038 [02:06<09:44,  9.93it/s]  [21:40:16] Explicit valence for atom # 4478 O, 3, is greater than permitted\n",
      "[21:40:16] Explicit valence for atom # 2428 C, 5, is greater than permitted\n",
      " 18%|█▊        | 1236/7038 [02:06<07:14, 13.34it/s]"
     ]
    },
    {
     "name": "stdout",
     "output_type": "stream",
     "text": [
      "1N9S.pdb\n",
      "1UR9.pdb\n"
     ]
    },
    {
     "name": "stderr",
     "output_type": "stream",
     "text": [
      " 18%|█▊        | 1262/7038 [02:07<03:54, 24.65it/s][21:40:17] Explicit valence for atom # 417 O, 3, is greater than permitted\n",
      " 18%|█▊        | 1265/7038 [02:08<05:01, 19.13it/s]"
     ]
    },
    {
     "name": "stdout",
     "output_type": "stream",
     "text": [
      "1TWC.pdb\n"
     ]
    },
    {
     "name": "stderr",
     "output_type": "stream",
     "text": [
      "[21:40:18] Explicit valence for atom # 161 O, 3, is greater than permitted\n",
      " 18%|█▊        | 1273/7038 [02:08<04:31, 21.22it/s]"
     ]
    },
    {
     "name": "stdout",
     "output_type": "stream",
     "text": [
      "1FSH.pdb\n"
     ]
    },
    {
     "name": "stderr",
     "output_type": "stream",
     "text": [
      " 18%|█▊        | 1283/7038 [02:08<03:55, 24.40it/s][21:40:19] Explicit valence for atom # 292 O, 3, is greater than permitted\n",
      " 18%|█▊        | 1290/7038 [02:09<05:20, 17.94it/s]"
     ]
    },
    {
     "name": "stdout",
     "output_type": "stream",
     "text": [
      "1RO3.pdb\n"
     ]
    },
    {
     "name": "stderr",
     "output_type": "stream",
     "text": [
      " 19%|█▊        | 1313/7038 [02:10<05:09, 18.47it/s][21:40:20] WARNING: not removing hydrogen atom without neighbors\n",
      " 19%|█▊        | 1319/7038 [02:11<08:32, 11.16it/s][21:40:22] Explicit valence for atom # 1595 O, 3, is greater than permitted\n",
      " 19%|█▉        | 1321/7038 [02:12<12:48,  7.44it/s]"
     ]
    },
    {
     "name": "stdout",
     "output_type": "stream",
     "text": [
      "2FTR.pdb\n"
     ]
    },
    {
     "name": "stderr",
     "output_type": "stream",
     "text": [
      " 19%|█▉        | 1331/7038 [02:13<14:08,  6.73it/s][21:40:23] Explicit valence for atom # 1474 C, 5, is greater than permitted\n",
      "[21:40:23] Explicit valence for atom # 2 C, 6, is greater than permitted\n",
      " 19%|█▉        | 1335/7038 [02:14<09:16, 10.24it/s][21:40:24] Explicit valence for atom # 2499 C, 5, is greater than permitted\n"
     ]
    },
    {
     "name": "stdout",
     "output_type": "stream",
     "text": [
      "1U0S.pdb\n",
      "6CRO.pdb\n",
      "1TGZ.pdb\n"
     ]
    },
    {
     "name": "stderr",
     "output_type": "stream",
     "text": [
      " 19%|█▉        | 1339/7038 [02:14<07:05, 13.38it/s][21:40:24] Explicit valence for atom # 21765 C, 5, is greater than permitted\n",
      " 19%|█▉        | 1344/7038 [02:14<06:15, 15.18it/s]"
     ]
    },
    {
     "name": "stdout",
     "output_type": "stream",
     "text": [
      "1S3S.pdb\n"
     ]
    },
    {
     "name": "stderr",
     "output_type": "stream",
     "text": [
      " 21%|██        | 1477/7038 [04:10<04:46, 19.41it/s]  [21:42:20] Explicit valence for atom # 308 C, 5, is greater than permitted\n"
     ]
    },
    {
     "name": "stdout",
     "output_type": "stream",
     "text": [
      "1P92.pdb\n"
     ]
    },
    {
     "name": "stderr",
     "output_type": "stream",
     "text": [
      " 22%|██▏       | 1522/7038 [04:13<06:12, 14.79it/s][21:42:23] Explicit valence for atom # 366 O, 3, is greater than permitted\n",
      " 22%|██▏       | 1526/7038 [04:13<06:24, 14.32it/s]"
     ]
    },
    {
     "name": "stdout",
     "output_type": "stream",
     "text": [
      "1O6V.pdb\n"
     ]
    },
    {
     "name": "stderr",
     "output_type": "stream",
     "text": [
      " 22%|██▏       | 1528/7038 [04:13<06:28, 14.18it/s][21:42:24] Explicit valence for atom # 454 O, 3, is greater than permitted\n",
      " 22%|██▏       | 1532/7038 [04:14<08:40, 10.59it/s][21:42:24] Explicit valence for atom # 40000 O, 4, is greater than permitted\n"
     ]
    },
    {
     "name": "stdout",
     "output_type": "stream",
     "text": [
      "1EXE.pdb\n"
     ]
    },
    {
     "name": "stderr",
     "output_type": "stream",
     "text": [
      " 22%|██▏       | 1539/7038 [04:14<06:18, 14.53it/s]"
     ]
    },
    {
     "name": "stdout",
     "output_type": "stream",
     "text": [
      "1S5L.pdb\n"
     ]
    },
    {
     "name": "stderr",
     "output_type": "stream",
     "text": [
      " 22%|██▏       | 1575/7038 [04:16<04:56, 18.41it/s][21:42:27] Explicit valence for atom # 160 O, 3, is greater than permitted\n",
      " 22%|██▏       | 1582/7038 [04:17<05:06, 17.79it/s]"
     ]
    },
    {
     "name": "stdout",
     "output_type": "stream",
     "text": [
      "1FCD.pdb\n"
     ]
    },
    {
     "name": "stderr",
     "output_type": "stream",
     "text": [
      " 23%|██▎       | 1589/7038 [04:17<04:18, 21.06it/s][21:42:28] Explicit valence for atom # 755 O, 3, is greater than permitted\n",
      " 23%|██▎       | 1598/7038 [04:18<05:02, 18.01it/s]"
     ]
    },
    {
     "name": "stdout",
     "output_type": "stream",
     "text": [
      "1DNU.pdb\n"
     ]
    },
    {
     "name": "stderr",
     "output_type": "stream",
     "text": [
      " 23%|██▎       | 1606/7038 [04:19<07:00, 12.93it/s][21:42:29] Explicit valence for atom # 4870 O, 4, is greater than permitted\n",
      " 23%|██▎       | 1617/7038 [04:19<04:34, 19.77it/s]"
     ]
    },
    {
     "name": "stdout",
     "output_type": "stream",
     "text": [
      "1VKE.pdb\n"
     ]
    },
    {
     "name": "stderr",
     "output_type": "stream",
     "text": [
      " 23%|██▎       | 1630/7038 [04:19<03:42, 24.33it/s][21:42:29] Explicit valence for atom # 1889 O, 3, is greater than permitted\n",
      " 23%|██▎       | 1635/7038 [04:20<03:41, 24.37it/s]"
     ]
    },
    {
     "name": "stdout",
     "output_type": "stream",
     "text": [
      "1JL4.pdb\n"
     ]
    },
    {
     "name": "stderr",
     "output_type": "stream",
     "text": [
      " 24%|██▍       | 1674/7038 [04:21<03:12, 27.89it/s][21:42:31] Explicit valence for atom # 904 O, 3, is greater than permitted\n",
      " 24%|██▍       | 1678/7038 [04:21<03:57, 22.57it/s]"
     ]
    },
    {
     "name": "stdout",
     "output_type": "stream",
     "text": [
      "1WC7.pdb\n"
     ]
    },
    {
     "name": "stderr",
     "output_type": "stream",
     "text": [
      " 24%|██▍       | 1710/7038 [04:23<05:01, 17.68it/s][21:42:33] WARNING: not removing hydrogen atom without neighbors\n",
      " 25%|██▌       | 1770/7038 [04:29<06:51, 12.81it/s][21:42:40] Explicit valence for atom # 406 O, 3, is greater than permitted\n",
      " 25%|██▌       | 1773/7038 [04:30<06:30, 13.48it/s]"
     ]
    },
    {
     "name": "stdout",
     "output_type": "stream",
     "text": [
      "4RXN.pdb\n"
     ]
    },
    {
     "name": "stderr",
     "output_type": "stream",
     "text": [
      " 25%|██▌       | 1779/7038 [04:30<08:04, 10.86it/s][21:42:40] Explicit valence for atom # 83 O, 3, is greater than permitted\n",
      " 25%|██▌       | 1788/7038 [04:31<04:28, 19.54it/s]"
     ]
    },
    {
     "name": "stdout",
     "output_type": "stream",
     "text": [
      "1DWL.pdb\n"
     ]
    },
    {
     "name": "stderr",
     "output_type": "stream",
     "text": [
      " 26%|██▌       | 1841/7038 [04:34<05:07, 16.90it/s][21:42:44] Explicit valence for atom # 514 O, 3, is greater than permitted\n",
      " 26%|██▌       | 1845/7038 [04:34<03:58, 21.77it/s]"
     ]
    },
    {
     "name": "stdout",
     "output_type": "stream",
     "text": [
      "2C5R.pdb\n"
     ]
    },
    {
     "name": "stderr",
     "output_type": "stream",
     "text": [
      " 27%|██▋       | 1884/7038 [04:39<09:52,  8.71it/s][21:42:49] WARNING: not removing hydrogen atom without neighbors\n",
      " 27%|██▋       | 1903/7038 [04:50<18:27,  4.64it/s]  [21:43:00] Explicit valence for atom # 69 C, 6, is greater than permitted\n",
      " 27%|██▋       | 1907/7038 [04:50<12:27,  6.86it/s]"
     ]
    },
    {
     "name": "stdout",
     "output_type": "stream",
     "text": [
      "1BHB.pdb\n"
     ]
    },
    {
     "name": "stderr",
     "output_type": "stream",
     "text": [
      " 27%|██▋       | 1909/7038 [04:50<10:40,  8.01it/s][21:43:00] Explicit valence for atom # 2288 O, 3, is greater than permitted\n",
      " 27%|██▋       | 1911/7038 [04:50<09:06,  9.38it/s][21:43:00] Explicit valence for atom # 7127 O, 3, is greater than permitted\n",
      " 27%|██▋       | 1913/7038 [04:50<08:08, 10.49it/s]"
     ]
    },
    {
     "name": "stdout",
     "output_type": "stream",
     "text": [
      "1ML5.pdb\n",
      "1K82.pdb\n"
     ]
    },
    {
     "name": "stderr",
     "output_type": "stream",
     "text": [
      " 28%|██▊       | 1940/7038 [04:52<05:09, 16.46it/s][21:43:02] WARNING: not removing hydrogen atom without neighbors\n",
      "[21:43:02] WARNING: not removing hydrogen atom without neighbors\n",
      "[21:43:02] WARNING: not removing hydrogen atom without neighbors\n",
      "[21:43:02] WARNING: not removing hydrogen atom without neighbors\n",
      "[21:43:02] WARNING: not removing hydrogen atom without neighbors\n",
      "[21:43:02] WARNING: not removing hydrogen atom without neighbors\n",
      "[21:43:02] WARNING: not removing hydrogen atom without neighbors\n",
      "[21:43:02] WARNING: not removing hydrogen atom without neighbors\n",
      "[21:43:02] Explicit valence for atom # 13 O, 3, is greater than permitted\n",
      " 28%|██▊       | 1945/7038 [04:53<05:24, 15.68it/s]"
     ]
    },
    {
     "name": "stdout",
     "output_type": "stream",
     "text": [
      "1FH1.pdb\n"
     ]
    },
    {
     "name": "stderr",
     "output_type": "stream",
     "text": [
      " 28%|██▊       | 1961/7038 [04:54<04:43, 17.90it/s][21:43:04] Explicit valence for atom # 2014 O, 3, is greater than permitted\n"
     ]
    },
    {
     "name": "stdout",
     "output_type": "stream",
     "text": [
      "1SYQ.pdb\n"
     ]
    },
    {
     "name": "stderr",
     "output_type": "stream",
     "text": [
      " 28%|██▊       | 1973/7038 [04:55<08:03, 10.48it/s][21:43:05] Explicit valence for atom # 118 O, 3, is greater than permitted\n",
      " 28%|██▊       | 1977/7038 [04:55<06:12, 13.57it/s]"
     ]
    },
    {
     "name": "stdout",
     "output_type": "stream",
     "text": [
      "1WXQ.pdb\n"
     ]
    },
    {
     "name": "stderr",
     "output_type": "stream",
     "text": [
      " 28%|██▊       | 1987/7038 [04:56<04:31, 18.59it/s][21:43:06] Explicit valence for atom # 1421 O, 3, is greater than permitted\n",
      " 28%|██▊       | 1990/7038 [04:56<04:48, 17.53it/s][21:43:06] Explicit valence for atom # 936 O, 3, is greater than permitted\n",
      " 28%|██▊       | 1993/7038 [04:56<05:24, 15.55it/s]"
     ]
    },
    {
     "name": "stdout",
     "output_type": "stream",
     "text": [
      "1Y7M.pdb\n",
      "1ZOT.pdb\n"
     ]
    },
    {
     "name": "stderr",
     "output_type": "stream",
     "text": [
      " 29%|██▉       | 2035/7038 [04:59<05:23, 15.48it/s][21:43:09] Explicit valence for atom # 760 O, 3, is greater than permitted\n",
      " 29%|██▉       | 2043/7038 [04:59<04:02, 20.63it/s]"
     ]
    },
    {
     "name": "stdout",
     "output_type": "stream",
     "text": [
      "1UWE.pdb\n"
     ]
    },
    {
     "name": "stderr",
     "output_type": "stream",
     "text": [
      " 29%|██▉       | 2060/7038 [05:00<05:46, 14.38it/s][21:43:10] Explicit valence for atom # 2257 O, 3, is greater than permitted\n",
      " 29%|██▉       | 2067/7038 [05:01<04:19, 19.19it/s]"
     ]
    },
    {
     "name": "stdout",
     "output_type": "stream",
     "text": [
      "1FI8.pdb\n"
     ]
    },
    {
     "name": "stderr",
     "output_type": "stream",
     "text": [
      " 30%|██▉       | 2077/7038 [05:01<04:13, 19.59it/s][21:43:11] Explicit valence for atom # 649 O, 3, is greater than permitted\n",
      " 30%|██▉       | 2086/7038 [05:02<03:32, 23.25it/s]"
     ]
    },
    {
     "name": "stdout",
     "output_type": "stream",
     "text": [
      "1RGX.pdb\n"
     ]
    },
    {
     "name": "stderr",
     "output_type": "stream",
     "text": [
      " 30%|███       | 2126/7038 [05:04<04:57, 16.53it/s][21:43:14] WARNING: not removing hydrogen atom without neighbors\n",
      " 31%|███       | 2151/7038 [05:05<04:53, 16.63it/s][21:43:15] Explicit valence for atom # 61 O, 3, is greater than permitted\n",
      " 31%|███       | 2154/7038 [05:06<04:30, 18.05it/s]"
     ]
    },
    {
     "name": "stdout",
     "output_type": "stream",
     "text": [
      "1DRW.pdb\n"
     ]
    },
    {
     "name": "stderr",
     "output_type": "stream",
     "text": [
      " 31%|███       | 2191/7038 [05:08<06:17, 12.85it/s][21:43:18] Explicit valence for atom # 35 N, 6, is greater than permitted\n",
      " 31%|███       | 2198/7038 [05:09<06:25, 12.54it/s]"
     ]
    },
    {
     "name": "stdout",
     "output_type": "stream",
     "text": [
      "1C7Y.pdb\n"
     ]
    },
    {
     "name": "stderr",
     "output_type": "stream",
     "text": [
      " 31%|███▏      | 2201/7038 [05:09<05:24, 14.92it/s][21:43:19] Explicit valence for atom # 1299 O, 3, is greater than permitted\n",
      " 31%|███▏      | 2206/7038 [05:09<04:17, 18.77it/s]"
     ]
    },
    {
     "name": "stdout",
     "output_type": "stream",
     "text": [
      "2SGP.pdb\n"
     ]
    },
    {
     "name": "stderr",
     "output_type": "stream",
     "text": [
      " 32%|███▏      | 2217/7038 [05:10<03:37, 22.18it/s][21:43:20] Explicit valence for atom # 4240 O, 3, is greater than permitted\n",
      " 32%|███▏      | 2223/7038 [05:10<03:44, 21.43it/s]"
     ]
    },
    {
     "name": "stdout",
     "output_type": "stream",
     "text": [
      "1NB5.pdb\n"
     ]
    },
    {
     "name": "stderr",
     "output_type": "stream",
     "text": [
      " 32%|███▏      | 2245/7038 [05:12<05:30, 14.51it/s][21:43:22] Explicit valence for atom # 2526 O, 3, is greater than permitted\n",
      " 32%|███▏      | 2249/7038 [05:12<04:37, 17.24it/s]"
     ]
    },
    {
     "name": "stdout",
     "output_type": "stream",
     "text": [
      "2HPP.pdb\n"
     ]
    },
    {
     "name": "stderr",
     "output_type": "stream",
     "text": [
      " 32%|███▏      | 2268/7038 [05:13<05:04, 15.66it/s][21:43:23] Explicit valence for atom # 6286 O, 4, is greater than permitted\n",
      " 32%|███▏      | 2271/7038 [05:13<04:20, 18.29it/s]"
     ]
    },
    {
     "name": "stdout",
     "output_type": "stream",
     "text": [
      "1Z7Z.pdb\n"
     ]
    },
    {
     "name": "stderr",
     "output_type": "stream",
     "text": [
      "[21:43:23] Explicit valence for atom # 99 O, 3, is greater than permitted\n",
      " 32%|███▏      | 2277/7038 [05:14<04:38, 17.11it/s][21:43:24] Explicit valence for atom # 1347 O, 3, is greater than permitted\n"
     ]
    },
    {
     "name": "stdout",
     "output_type": "stream",
     "text": [
      "1W8X.pdb\n",
      "1FCG.pdb\n"
     ]
    },
    {
     "name": "stderr",
     "output_type": "stream",
     "text": [
      " 33%|███▎      | 2290/7038 [05:14<03:48, 20.82it/s][21:43:24] Explicit valence for atom # 1685 C, 5, is greater than permitted\n",
      " 33%|███▎      | 2293/7038 [05:14<04:09, 18.98it/s][21:43:24] Explicit valence for atom # 3 O, 3, is greater than permitted\n"
     ]
    },
    {
     "name": "stdout",
     "output_type": "stream",
     "text": [
      "1DKY.pdb\n",
      "1X7V.pdb\n"
     ]
    },
    {
     "name": "stderr",
     "output_type": "stream",
     "text": [
      " 33%|███▎      | 2309/7038 [05:15<04:48, 16.37it/s][21:43:25] Explicit valence for atom # 5824 O, 3, is greater than permitted\n",
      " 33%|███▎      | 2313/7038 [05:16<04:39, 16.91it/s]"
     ]
    },
    {
     "name": "stdout",
     "output_type": "stream",
     "text": [
      "1NJ9.pdb\n"
     ]
    },
    {
     "name": "stderr",
     "output_type": "stream",
     "text": [
      " 33%|███▎      | 2327/7038 [05:16<03:42, 21.16it/s][21:43:27] Explicit valence for atom # 746 C, 5, is greater than permitted\n",
      " 33%|███▎      | 2333/7038 [05:17<03:50, 20.39it/s]"
     ]
    },
    {
     "name": "stdout",
     "output_type": "stream",
     "text": [
      "1S0U.pdb\n"
     ]
    },
    {
     "name": "stderr",
     "output_type": "stream",
     "text": [
      " 34%|███▎      | 2364/7038 [05:20<08:24,  9.26it/s][21:43:30] Explicit valence for atom # 13141 O, 4, is greater than permitted\n",
      " 34%|███▎      | 2369/7038 [05:20<06:02, 12.88it/s]"
     ]
    },
    {
     "name": "stdout",
     "output_type": "stream",
     "text": [
      "1MWA.pdb\n"
     ]
    },
    {
     "name": "stderr",
     "output_type": "stream",
     "text": [
      " 34%|███▍      | 2388/7038 [05:21<04:27, 17.36it/s][21:43:31] Explicit valence for atom # 6474 Mg, 4, is greater than permitted\n",
      " 34%|███▍      | 2395/7038 [05:22<03:40, 21.06it/s]"
     ]
    },
    {
     "name": "stdout",
     "output_type": "stream",
     "text": [
      "1RQK.pdb\n"
     ]
    },
    {
     "name": "stderr",
     "output_type": "stream",
     "text": [
      " 34%|███▍      | 2403/7038 [05:23<06:30, 11.86it/s][21:43:33] Explicit valence for atom # 4016 O, 3, is greater than permitted\n",
      " 34%|███▍      | 2406/7038 [05:23<05:28, 14.09it/s]"
     ]
    },
    {
     "name": "stdout",
     "output_type": "stream",
     "text": [
      "1P7H.pdb\n"
     ]
    },
    {
     "name": "stderr",
     "output_type": "stream",
     "text": [
      " 35%|███▌      | 2475/7038 [05:30<04:38, 16.40it/s][21:43:40] \n",
      "\n",
      "****\n",
      "Post-condition Violation\n",
      "Element 'X' not found\n",
      "Violation occurred on line 93 in file /home/conda/feedstock_root/build_artifacts/rdkit_1651075175949/work/Code/GraphMol/PeriodicTable.h\n",
      "Failed Expression: anum > -1\n",
      "****\n",
      "\n",
      " 35%|███▌      | 2477/7038 [05:30<05:44, 13.25it/s]"
     ]
    },
    {
     "name": "stdout",
     "output_type": "stream",
     "text": [
      "1V54.pdb\n"
     ]
    },
    {
     "name": "stderr",
     "output_type": "stream",
     "text": [
      " 35%|███▌      | 2490/7038 [05:31<04:58, 15.26it/s][21:43:41] WARNING: not removing hydrogen atom without neighbors\n",
      "[21:43:41] WARNING: not removing hydrogen atom without neighbors\n",
      "[21:43:41] WARNING: not removing hydrogen atom without neighbors\n",
      "[21:43:41] WARNING: not removing hydrogen atom without neighbors\n",
      "[21:43:41] WARNING: not removing hydrogen atom without neighbors\n",
      "[21:43:41] WARNING: not removing hydrogen atom without neighbors\n",
      "[21:43:41] WARNING: not removing hydrogen atom without neighbors\n",
      "[21:43:41] WARNING: not removing hydrogen atom without neighbors\n",
      "[21:43:41] WARNING: not removing hydrogen atom without neighbors\n",
      "[21:43:41] WARNING: not removing hydrogen atom without neighbors\n",
      "[21:43:41] WARNING: not removing hydrogen atom without neighbors\n",
      "[21:43:41] WARNING: not removing hydrogen atom without neighbors\n",
      "[21:43:41] WARNING: not removing hydrogen atom without neighbors\n",
      "[21:43:41] WARNING: not removing hydrogen atom without neighbors\n",
      "[21:43:41] WARNING: not removing hydrogen atom without neighbors\n",
      "[21:43:41] WARNING: not removing hydrogen atom without neighbors\n",
      "[21:43:41] WARNING: not removing hydrogen atom without neighbors\n",
      "[21:43:41] WARNING: not removing hydrogen atom without neighbors\n",
      "[21:43:41] WARNING: not removing hydrogen atom without neighbors\n",
      "[21:43:41] WARNING: not removing hydrogen atom without neighbors\n",
      "[21:43:41] WARNING: not removing hydrogen atom without neighbors\n",
      "[21:43:41] WARNING: not removing hydrogen atom without neighbors\n",
      "[21:43:41] WARNING: not removing hydrogen atom without neighbors\n",
      "[21:43:41] WARNING: not removing hydrogen atom without neighbors\n",
      "[21:43:41] WARNING: not removing hydrogen atom without neighbors\n",
      "[21:43:41] WARNING: not removing hydrogen atom without neighbors\n",
      "[21:43:41] WARNING: not removing hydrogen atom without neighbors\n",
      "[21:43:41] WARNING: not removing hydrogen atom without neighbors\n",
      "[21:43:41] WARNING: not removing hydrogen atom without neighbors\n",
      "[21:43:41] WARNING: not removing hydrogen atom without neighbors\n",
      "[21:43:41] WARNING: not removing hydrogen atom without neighbors\n",
      "[21:43:41] WARNING: not removing hydrogen atom without neighbors\n",
      "[21:43:41] WARNING: not removing hydrogen atom without neighbors\n",
      "[21:43:41] WARNING: not removing hydrogen atom without neighbors\n",
      "[21:43:41] WARNING: not removing hydrogen atom without neighbors\n",
      "[21:43:41] WARNING: not removing hydrogen atom without neighbors\n",
      "[21:43:41] WARNING: not removing hydrogen atom without neighbors\n",
      "[21:43:41] WARNING: not removing hydrogen atom without neighbors\n",
      "[21:43:41] WARNING: not removing hydrogen atom without neighbors\n",
      "[21:43:41] WARNING: not removing hydrogen atom without neighbors\n",
      " 35%|███▌      | 2492/7038 [05:32<09:29,  7.99it/s][21:43:42] Explicit valence for atom # 2488 O, 3, is greater than permitted\n",
      " 36%|███▌      | 2499/7038 [05:32<07:23, 10.23it/s]"
     ]
    },
    {
     "name": "stdout",
     "output_type": "stream",
     "text": [
      "1VRP.pdb\n"
     ]
    },
    {
     "name": "stderr",
     "output_type": "stream",
     "text": [
      " 36%|███▋      | 2558/7038 [05:36<06:25, 11.63it/s][21:43:46] Explicit valence for atom # 662 O, 3, is greater than permitted\n",
      " 36%|███▋      | 2561/7038 [05:37<05:32, 13.47it/s]"
     ]
    },
    {
     "name": "stdout",
     "output_type": "stream",
     "text": [
      "1QFW.pdb\n"
     ]
    },
    {
     "name": "stderr",
     "output_type": "stream",
     "text": [
      " 37%|███▋      | 2575/7038 [05:37<03:16, 22.70it/s][21:43:47] Explicit valence for atom # 3852 O, 3, is greater than permitted\n",
      " 37%|███▋      | 2578/7038 [05:37<04:01, 18.44it/s]"
     ]
    },
    {
     "name": "stdout",
     "output_type": "stream",
     "text": [
      "1N7O.pdb\n"
     ]
    },
    {
     "name": "stderr",
     "output_type": "stream",
     "text": [
      " 37%|███▋      | 2585/7038 [05:38<04:49, 15.40it/s][21:43:48] Explicit valence for atom # 586 O, 3, is greater than permitted\n",
      " 37%|███▋      | 2592/7038 [05:39<09:00,  8.22it/s]"
     ]
    },
    {
     "name": "stdout",
     "output_type": "stream",
     "text": [
      "2PF1.pdb\n"
     ]
    },
    {
     "name": "stderr",
     "output_type": "stream",
     "text": [
      "[21:43:49] Explicit valence for atom # 2746 O, 4, is greater than permitted\n",
      " 37%|███▋      | 2596/7038 [05:39<06:23, 11.57it/s][21:43:49] Explicit valence for atom # 1330 O, 3, is greater than permitted\n",
      " 37%|███▋      | 2599/7038 [05:39<05:15, 14.09it/s]"
     ]
    },
    {
     "name": "stdout",
     "output_type": "stream",
     "text": [
      "1TBU.pdb\n",
      "1VQZ.pdb\n"
     ]
    },
    {
     "name": "stderr",
     "output_type": "stream",
     "text": [
      " 37%|███▋      | 2618/7038 [05:40<03:42, 19.89it/s][21:43:50] Explicit valence for atom # 164 O, 3, is greater than permitted\n",
      " 37%|███▋      | 2625/7038 [05:41<04:17, 17.12it/s]"
     ]
    },
    {
     "name": "stdout",
     "output_type": "stream",
     "text": [
      "2D26.pdb\n"
     ]
    },
    {
     "name": "stderr",
     "output_type": "stream",
     "text": [
      " 37%|███▋      | 2639/7038 [05:43<06:54, 10.63it/s][21:43:53] Explicit valence for atom # 1638 O, 3, is greater than permitted\n",
      " 38%|███▊      | 2646/7038 [05:43<04:42, 15.52it/s][21:43:53] Explicit valence for atom # 261 O, 3, is greater than permitted\n",
      "[21:43:53] Explicit valence for atom # 1033 C, 5, is greater than permitted\n",
      " 38%|███▊      | 2649/7038 [05:43<04:28, 16.36it/s]"
     ]
    },
    {
     "name": "stdout",
     "output_type": "stream",
     "text": [
      "1YMM.pdb\n",
      "1U2U.pdb\n",
      "1QGC.pdb\n"
     ]
    },
    {
     "name": "stderr",
     "output_type": "stream",
     "text": [
      " 38%|███▊      | 2670/7038 [05:44<03:40, 19.79it/s][21:43:54] Explicit valence for atom # 86 O, 3, is greater than permitted\n",
      " 38%|███▊      | 2676/7038 [05:45<02:45, 26.31it/s]"
     ]
    },
    {
     "name": "stdout",
     "output_type": "stream",
     "text": [
      "1APL.pdb\n"
     ]
    },
    {
     "name": "stderr",
     "output_type": "stream",
     "text": [
      " 38%|███▊      | 2683/7038 [05:45<02:52, 25.19it/s][21:43:55] WARNING: not removing hydrogen atom without neighbors\n",
      "[21:43:55] WARNING: not removing hydrogen atom without neighbors\n",
      "[21:43:55] WARNING: not removing hydrogen atom without neighbors\n",
      "[21:43:55] WARNING: not removing hydrogen atom without neighbors\n",
      "[21:43:55] WARNING: not removing hydrogen atom without neighbors\n",
      "[21:43:55] WARNING: not removing hydrogen atom without neighbors\n",
      "[21:43:55] WARNING: not removing hydrogen atom without neighbors\n",
      "[21:43:55] WARNING: not removing hydrogen atom without neighbors\n",
      "[21:43:55] WARNING: not removing hydrogen atom without neighbors\n",
      "[21:43:55] WARNING: not removing hydrogen atom without neighbors\n",
      "[21:43:55] WARNING: not removing hydrogen atom without neighbors\n",
      "[21:43:55] WARNING: not removing hydrogen atom without neighbors\n",
      "[21:43:55] WARNING: not removing hydrogen atom without neighbors\n",
      "[21:43:55] WARNING: not removing hydrogen atom without neighbors\n",
      "[21:43:55] WARNING: not removing hydrogen atom without neighbors\n",
      "[21:43:55] WARNING: not removing hydrogen atom without neighbors\n",
      "[21:43:55] WARNING: not removing hydrogen atom without neighbors\n",
      "[21:43:55] WARNING: not removing hydrogen atom without neighbors\n",
      "[21:43:55] WARNING: not removing hydrogen atom without neighbors\n",
      "[21:43:55] WARNING: not removing hydrogen atom without neighbors\n",
      "[21:43:55] WARNING: not removing hydrogen atom without neighbors\n",
      "[21:43:55] WARNING: not removing hydrogen atom without neighbors\n",
      "[21:43:55] WARNING: not removing hydrogen atom without neighbors\n",
      "[21:43:55] WARNING: not removing hydrogen atom without neighbors\n",
      "[21:43:55] WARNING: not removing hydrogen atom without neighbors\n",
      "[21:43:55] WARNING: not removing hydrogen atom without neighbors\n",
      "[21:43:55] WARNING: not removing hydrogen atom without neighbors\n",
      "[21:43:55] WARNING: not removing hydrogen atom without neighbors\n",
      "[21:43:55] Explicit valence for atom # 48 N, 5, is greater than permitted\n",
      " 38%|███▊      | 2686/7038 [05:45<02:48, 25.82it/s]"
     ]
    },
    {
     "name": "stdout",
     "output_type": "stream",
     "text": [
      "1HOD.pdb\n"
     ]
    },
    {
     "name": "stderr",
     "output_type": "stream",
     "text": [
      " 38%|███▊      | 2692/7038 [05:45<03:53, 18.64it/s][21:43:55] Explicit valence for atom # 642 O, 3, is greater than permitted\n",
      " 38%|███▊      | 2699/7038 [05:46<04:11, 17.27it/s]"
     ]
    },
    {
     "name": "stdout",
     "output_type": "stream",
     "text": [
      "1BLB.pdb\n"
     ]
    },
    {
     "name": "stderr",
     "output_type": "stream",
     "text": [
      "[21:43:56] Explicit valence for atom # 650 O, 3, is greater than permitted\n",
      " 38%|███▊      | 2702/7038 [05:46<03:51, 18.70it/s][21:43:56] Explicit valence for atom # 5352 O, 3, is greater than permitted\n",
      " 38%|███▊      | 2705/7038 [05:46<03:32, 20.41it/s]"
     ]
    },
    {
     "name": "stdout",
     "output_type": "stream",
     "text": [
      "1H3L.pdb\n",
      "1M8V.pdb\n"
     ]
    },
    {
     "name": "stderr",
     "output_type": "stream",
     "text": [
      " 39%|███▊      | 2718/7038 [05:47<05:00, 14.37it/s][21:43:57] Explicit valence for atom # 2060 C, 7, is greater than permitted\n",
      " 39%|███▉      | 2728/7038 [05:47<03:06, 23.12it/s]"
     ]
    },
    {
     "name": "stdout",
     "output_type": "stream",
     "text": [
      "1R0V.pdb\n"
     ]
    },
    {
     "name": "stderr",
     "output_type": "stream",
     "text": [
      " 39%|███▉      | 2754/7038 [05:49<03:02, 23.54it/s][21:43:59] Explicit valence for atom # 24 O, 3, is greater than permitted\n",
      " 39%|███▉      | 2764/7038 [05:49<03:01, 23.58it/s]"
     ]
    },
    {
     "name": "stdout",
     "output_type": "stream",
     "text": [
      "1Q0Q.pdb\n"
     ]
    },
    {
     "name": "stderr",
     "output_type": "stream",
     "text": [
      " 40%|███▉      | 2793/7038 [05:51<06:16, 11.27it/s][21:44:01] WARNING: not removing hydrogen atom without neighbors\n",
      "[21:44:01] WARNING: not removing hydrogen atom without neighbors\n",
      "[21:44:01] WARNING: not removing hydrogen atom without neighbors\n",
      "[21:44:01] WARNING: not removing hydrogen atom without neighbors\n",
      "[21:44:01] WARNING: not removing hydrogen atom without neighbors\n",
      "[21:44:01] WARNING: not removing hydrogen atom without neighbors\n",
      "[21:44:01] WARNING: not removing hydrogen atom without neighbors\n",
      "[21:44:01] WARNING: not removing hydrogen atom without neighbors\n",
      "[21:44:01] WARNING: not removing hydrogen atom without neighbors\n",
      "[21:44:01] WARNING: not removing hydrogen atom without neighbors\n",
      "[21:44:01] WARNING: not removing hydrogen atom without neighbors\n",
      "[21:44:01] WARNING: not removing hydrogen atom without neighbors\n",
      "[21:44:01] WARNING: not removing hydrogen atom without neighbors\n",
      "[21:44:01] WARNING: not removing hydrogen atom without neighbors\n",
      "[21:44:01] WARNING: not removing hydrogen atom without neighbors\n",
      "[21:44:01] WARNING: not removing hydrogen atom without neighbors\n",
      "[21:44:01] WARNING: not removing hydrogen atom without neighbors\n",
      "[21:44:01] WARNING: not removing hydrogen atom without neighbors\n",
      "[21:44:01] WARNING: not removing hydrogen atom without neighbors\n",
      "[21:44:01] WARNING: not removing hydrogen atom without neighbors\n",
      "[21:44:01] WARNING: not removing hydrogen atom without neighbors\n",
      "[21:44:01] WARNING: not removing hydrogen atom without neighbors\n",
      "[21:44:01] WARNING: not removing hydrogen atom without neighbors\n",
      "[21:44:01] WARNING: not removing hydrogen atom without neighbors\n",
      "[21:44:01] WARNING: not removing hydrogen atom without neighbors\n",
      "[21:44:01] WARNING: not removing hydrogen atom without neighbors\n",
      "[21:44:01] WARNING: not removing hydrogen atom without neighbors\n",
      "[21:44:01] WARNING: not removing hydrogen atom without neighbors\n",
      "[21:44:01] WARNING: not removing hydrogen atom without neighbors\n",
      "[21:44:01] WARNING: not removing hydrogen atom without neighbors\n",
      "[21:44:01] WARNING: not removing hydrogen atom without neighbors\n",
      "[21:44:01] WARNING: not removing hydrogen atom without neighbors\n",
      "[21:44:01] WARNING: not removing hydrogen atom without neighbors\n",
      "[21:44:01] WARNING: not removing hydrogen atom without neighbors\n",
      "[21:44:01] WARNING: not removing hydrogen atom without neighbors\n",
      "[21:44:01] WARNING: not removing hydrogen atom without neighbors\n",
      "[21:44:01] WARNING: not removing hydrogen atom without neighbors\n",
      "[21:44:01] WARNING: not removing hydrogen atom without neighbors\n",
      "[21:44:01] WARNING: not removing hydrogen atom without neighbors\n",
      "[21:44:01] WARNING: not removing hydrogen atom without neighbors\n",
      "[21:44:01] WARNING: not removing hydrogen atom without neighbors\n",
      "[21:44:01] WARNING: not removing hydrogen atom without neighbors\n",
      "[21:44:01] WARNING: not removing hydrogen atom without neighbors\n",
      "[21:44:01] WARNING: not removing hydrogen atom without neighbors\n",
      "[21:44:01] WARNING: not removing hydrogen atom without neighbors\n",
      "[21:44:01] WARNING: not removing hydrogen atom without neighbors\n",
      "[21:44:01] WARNING: not removing hydrogen atom without neighbors\n",
      "[21:44:01] WARNING: not removing hydrogen atom without neighbors\n",
      "[21:44:01] WARNING: not removing hydrogen atom without neighbors\n",
      "[21:44:01] WARNING: not removing hydrogen atom without neighbors\n",
      "[21:44:01] WARNING: not removing hydrogen atom without neighbors\n",
      "[21:44:01] WARNING: not removing hydrogen atom without neighbors\n",
      "[21:44:01] WARNING: not removing hydrogen atom without neighbors\n",
      "[21:44:01] WARNING: not removing hydrogen atom without neighbors\n",
      "[21:44:01] WARNING: not removing hydrogen atom without neighbors\n",
      "[21:44:01] WARNING: not removing hydrogen atom without neighbors\n",
      "[21:44:01] WARNING: not removing hydrogen atom without neighbors\n",
      "[21:44:01] WARNING: not removing hydrogen atom without neighbors\n",
      "[21:44:01] WARNING: not removing hydrogen atom without neighbors\n",
      "[21:44:01] WARNING: not removing hydrogen atom without neighbors\n",
      "[21:44:01] WARNING: not removing hydrogen atom without neighbors\n",
      "[21:44:01] WARNING: not removing hydrogen atom without neighbors\n",
      "[21:44:01] WARNING: not removing hydrogen atom without neighbors\n",
      "[21:44:01] WARNING: not removing hydrogen atom without neighbors\n",
      "[21:44:01] WARNING: not removing hydrogen atom without neighbors\n",
      "[21:44:01] WARNING: not removing hydrogen atom without neighbors\n",
      "[21:44:01] WARNING: not removing hydrogen atom without neighbors\n",
      "[21:44:01] WARNING: not removing hydrogen atom without neighbors\n",
      "[21:44:01] WARNING: not removing hydrogen atom without neighbors\n",
      "[21:44:01] WARNING: not removing hydrogen atom without neighbors\n",
      "[21:44:01] WARNING: not removing hydrogen atom without neighbors\n",
      "[21:44:01] WARNING: not removing hydrogen atom without neighbors\n",
      "[21:44:01] WARNING: not removing hydrogen atom without neighbors\n",
      "[21:44:01] WARNING: not removing hydrogen atom without neighbors\n",
      "[21:44:01] WARNING: not removing hydrogen atom without neighbors\n",
      "[21:44:01] WARNING: not removing hydrogen atom without neighbors\n",
      "[21:44:01] WARNING: not removing hydrogen atom without neighbors\n",
      "[21:44:01] WARNING: not removing hydrogen atom without neighbors\n",
      "[21:44:01] WARNING: not removing hydrogen atom without neighbors\n",
      "[21:44:01] WARNING: not removing hydrogen atom without neighbors\n",
      "[21:44:01] WARNING: not removing hydrogen atom without neighbors\n",
      "[21:44:01] WARNING: not removing hydrogen atom without neighbors\n",
      "[21:44:01] WARNING: not removing hydrogen atom without neighbors\n",
      "[21:44:01] WARNING: not removing hydrogen atom without neighbors\n",
      "[21:44:01] WARNING: not removing hydrogen atom without neighbors\n",
      "[21:44:01] WARNING: not removing hydrogen atom without neighbors\n",
      "[21:44:01] WARNING: not removing hydrogen atom without neighbors\n",
      "[21:44:01] WARNING: not removing hydrogen atom without neighbors\n",
      "[21:44:01] WARNING: not removing hydrogen atom without neighbors\n",
      "[21:44:01] WARNING: not removing hydrogen atom without neighbors\n",
      "[21:44:01] WARNING: not removing hydrogen atom without neighbors\n",
      "[21:44:01] WARNING: not removing hydrogen atom without neighbors\n",
      "[21:44:01] WARNING: not removing hydrogen atom without neighbors\n",
      "[21:44:01] WARNING: not removing hydrogen atom without neighbors\n",
      "[21:44:01] WARNING: not removing hydrogen atom without neighbors\n",
      "[21:44:01] WARNING: not removing hydrogen atom without neighbors\n",
      "[21:44:01] WARNING: not removing hydrogen atom without neighbors\n",
      "[21:44:01] WARNING: not removing hydrogen atom without neighbors\n",
      "[21:44:01] WARNING: not removing hydrogen atom without neighbors\n",
      "[21:44:01] WARNING: not removing hydrogen atom without neighbors\n",
      "[21:44:01] WARNING: not removing hydrogen atom without neighbors\n",
      "[21:44:01] WARNING: not removing hydrogen atom without neighbors\n",
      "[21:44:01] WARNING: not removing hydrogen atom without neighbors\n",
      "[21:44:01] WARNING: not removing hydrogen atom without neighbors\n",
      "[21:44:01] Explicit valence for atom # 15 O, 3, is greater than permitted\n",
      " 40%|███▉      | 2799/7038 [05:51<03:47, 18.60it/s]"
     ]
    },
    {
     "name": "stdout",
     "output_type": "stream",
     "text": [
      "2PDE.pdb\n"
     ]
    },
    {
     "name": "stderr",
     "output_type": "stream",
     "text": [
      " 40%|███▉      | 2802/7038 [05:51<03:56, 17.91it/s][21:44:01] Explicit valence for atom # 5646 O, 3, is greater than permitted\n",
      " 40%|███▉      | 2809/7038 [05:52<04:25, 15.94it/s]"
     ]
    },
    {
     "name": "stdout",
     "output_type": "stream",
     "text": [
      "1C9L.pdb\n"
     ]
    },
    {
     "name": "stderr",
     "output_type": "stream",
     "text": [
      " 40%|████      | 2823/7038 [05:52<03:47, 18.51it/s][21:44:02] Explicit valence for atom # 1518 C, 5, is greater than permitted\n",
      " 40%|████      | 2829/7038 [05:53<02:54, 24.15it/s]"
     ]
    },
    {
     "name": "stdout",
     "output_type": "stream",
     "text": [
      "1B23.pdb\n"
     ]
    },
    {
     "name": "stderr",
     "output_type": "stream",
     "text": [
      " 40%|████      | 2832/7038 [05:53<03:56, 17.79it/s][21:44:03] Explicit valence for atom # 691 O, 3, is greater than permitted\n",
      " 40%|████      | 2842/7038 [05:53<02:58, 23.48it/s]"
     ]
    },
    {
     "name": "stdout",
     "output_type": "stream",
     "text": [
      "1PNB.pdb\n"
     ]
    },
    {
     "name": "stderr",
     "output_type": "stream",
     "text": [
      " 40%|████      | 2845/7038 [05:53<02:58, 23.53it/s][21:44:03] Explicit valence for atom # 204 O, 3, is greater than permitted\n",
      " 40%|████      | 2848/7038 [05:53<03:01, 23.11it/s][21:44:03] Explicit valence for atom # 3 O, 3, is greater than permitted\n"
     ]
    },
    {
     "name": "stdout",
     "output_type": "stream",
     "text": [
      "1RJL.pdb\n",
      "2BCN.pdb\n"
     ]
    },
    {
     "name": "stderr",
     "output_type": "stream",
     "text": [
      " 41%|████      | 2892/7038 [05:56<04:14, 16.32it/s][21:44:06] Explicit valence for atom # 6445 Mg, 4, is greater than permitted\n",
      " 41%|████      | 2896/7038 [05:56<03:30, 19.69it/s][21:44:06] Explicit valence for atom # 2 C, 5, is greater than permitted\n",
      " 41%|████      | 2899/7038 [05:56<03:15, 21.12it/s][21:44:06] Explicit valence for atom # 595 O, 3, is greater than permitted\n"
     ]
    },
    {
     "name": "stdout",
     "output_type": "stream",
     "text": [
      "1RZH.pdb\n",
      "1ST6.pdb\n",
      "1XTC.pdb\n"
     ]
    },
    {
     "name": "stderr",
     "output_type": "stream",
     "text": [
      " 41%|████▏     | 2909/7038 [05:57<03:46, 18.25it/s][21:44:07] Explicit valence for atom # 1247 O, 3, is greater than permitted\n",
      " 41%|████▏     | 2916/7038 [05:57<03:08, 21.92it/s][21:44:07] Explicit valence for atom # 6033 O, 3, is greater than permitted\n"
     ]
    },
    {
     "name": "stdout",
     "output_type": "stream",
     "text": [
      "1DKT.pdb\n",
      "1COV.pdb\n"
     ]
    },
    {
     "name": "stderr",
     "output_type": "stream",
     "text": [
      " 41%|████▏     | 2919/7038 [05:57<03:59, 17.21it/s][21:44:07] Explicit valence for atom # 1707 C, 5, is greater than permitted\n",
      " 42%|████▏     | 2927/7038 [05:58<03:02, 22.55it/s]"
     ]
    },
    {
     "name": "stdout",
     "output_type": "stream",
     "text": [
      "1TO1.pdb\n"
     ]
    },
    {
     "name": "stderr",
     "output_type": "stream",
     "text": [
      " 42%|████▏     | 2930/7038 [05:58<02:52, 23.76it/s][21:44:08] Explicit valence for atom # 576 O, 3, is greater than permitted\n",
      " 42%|████▏     | 2936/7038 [05:58<03:24, 20.09it/s][21:44:08] WARNING: not removing hydrogen atom without neighbors\n",
      "[21:44:08] WARNING: not removing hydrogen atom without neighbors\n"
     ]
    },
    {
     "name": "stdout",
     "output_type": "stream",
     "text": [
      "2COL.pdb\n"
     ]
    },
    {
     "name": "stderr",
     "output_type": "stream",
     "text": [
      " 42%|████▏     | 2951/7038 [05:59<03:43, 18.25it/s][21:44:09] Explicit valence for atom # 620 O, 3, is greater than permitted\n",
      " 42%|████▏     | 2954/7038 [05:59<04:35, 14.83it/s]"
     ]
    },
    {
     "name": "stdout",
     "output_type": "stream",
     "text": [
      "1GXD.pdb\n"
     ]
    },
    {
     "name": "stderr",
     "output_type": "stream",
     "text": [
      " 43%|████▎     | 2992/7038 [06:03<08:17,  8.14it/s][21:44:14] Explicit valence for atom # 721 C, 6, is greater than permitted\n",
      " 43%|████▎     | 2994/7038 [06:04<10:31,  6.40it/s]"
     ]
    },
    {
     "name": "stdout",
     "output_type": "stream",
     "text": [
      "1K3L.pdb\n"
     ]
    },
    {
     "name": "stderr",
     "output_type": "stream",
     "text": [
      " 43%|████▎     | 2996/7038 [06:04<09:53,  6.81it/s][21:44:14] Explicit valence for atom # 384 O, 3, is greater than permitted\n",
      " 43%|████▎     | 2998/7038 [06:05<13:27,  5.00it/s]"
     ]
    },
    {
     "name": "stdout",
     "output_type": "stream",
     "text": [
      "1QUN.pdb\n"
     ]
    },
    {
     "name": "stderr",
     "output_type": "stream",
     "text": [
      " 43%|████▎     | 3031/7038 [06:06<02:57, 22.53it/s][21:44:16] Explicit valence for atom # 10429 O, 3, is greater than permitted\n",
      " 43%|████▎     | 3034/7038 [06:06<03:02, 21.90it/s]"
     ]
    },
    {
     "name": "stdout",
     "output_type": "stream",
     "text": [
      "1P3M.pdb\n"
     ]
    },
    {
     "name": "stderr",
     "output_type": "stream",
     "text": [
      " 43%|████▎     | 3042/7038 [06:07<03:50, 17.32it/s][21:44:17] Explicit valence for atom # 772 O, 3, is greater than permitted\n",
      "[21:44:17] WARNING: not removing hydrogen atom without neighbors\n",
      "[21:44:17] Explicit valence for atom # 7 C, 5, is greater than permitted\n",
      " 43%|████▎     | 3048/7038 [06:29<04:06, 16.20it/s]"
     ]
    },
    {
     "name": "stdout",
     "output_type": "stream",
     "text": [
      "1PRS.pdb\n",
      "1BBA.pdb\n"
     ]
    },
    {
     "name": "stderr",
     "output_type": "stream",
     "text": [
      " 43%|████▎     | 3051/7038 [06:29<2:22:40,  2.15s/it][21:44:39] Explicit valence for atom # 3774 O, 3, is greater than permitted\n",
      " 43%|████▎     | 3054/7038 [06:29<1:31:12,  1.37s/it]"
     ]
    },
    {
     "name": "stdout",
     "output_type": "stream",
     "text": [
      "1QKZ.pdb\n"
     ]
    },
    {
     "name": "stderr",
     "output_type": "stream",
     "text": [
      " 43%|████▎     | 3061/7038 [06:31<40:27,  1.64it/s]  [21:44:41] Explicit valence for atom # 4694 O, 3, is greater than permitted\n",
      " 44%|████▎     | 3069/7038 [06:31<16:51,  3.92it/s][21:44:41] Explicit valence for atom # 3083 O, 3, is greater than permitted\n",
      " 44%|████▎     | 3072/7038 [06:31<12:40,  5.21it/s]"
     ]
    },
    {
     "name": "stdout",
     "output_type": "stream",
     "text": [
      "1C9I.pdb\n",
      "1U6G.pdb\n"
     ]
    },
    {
     "name": "stderr",
     "output_type": "stream",
     "text": [
      " 44%|████▍     | 3094/7038 [06:33<05:44, 11.44it/s][21:44:43] Explicit valence for atom # 3059 O, 3, is greater than permitted\n",
      "[21:44:43] Explicit valence for atom # 2144 O, 3, is greater than permitted\n",
      " 44%|████▍     | 3100/7038 [06:33<03:20, 19.64it/s][21:44:43] Explicit valence for atom # 1284 O, 3, is greater than permitted\n",
      " 44%|████▍     | 3103/7038 [06:33<03:09, 20.72it/s][21:44:43] Explicit valence for atom # 801 C, 5, is greater than permitted\n"
     ]
    },
    {
     "name": "stdout",
     "output_type": "stream",
     "text": [
      "1QQD.pdb\n",
      "1NBZ.pdb\n",
      "1CUK.pdb\n",
      "1PKV.pdb\n"
     ]
    },
    {
     "name": "stderr",
     "output_type": "stream",
     "text": [
      "[21:44:43] Explicit valence for atom # 5595 C, 8, is greater than permitted\n",
      " 44%|████▍     | 3108/7038 [06:33<03:14, 20.24it/s][21:44:44] Explicit valence for atom # 3078 C, 5, is greater than permitted\n",
      " 44%|████▍     | 3111/7038 [06:34<03:11, 20.52it/s]"
     ]
    },
    {
     "name": "stdout",
     "output_type": "stream",
     "text": [
      "1RRJ.pdb\n",
      "1Z8Y.pdb\n"
     ]
    },
    {
     "name": "stderr",
     "output_type": "stream",
     "text": [
      " 44%|████▍     | 3125/7038 [06:34<03:23, 19.20it/s][21:44:44] Explicit valence for atom # 2710 O, 4, is greater than permitted\n"
     ]
    },
    {
     "name": "stdout",
     "output_type": "stream",
     "text": [
      "1Y62.pdb\n"
     ]
    },
    {
     "name": "stderr",
     "output_type": "stream",
     "text": [
      " 45%|████▌     | 3172/7038 [07:19<08:29,  7.59it/s]  [21:45:29] Explicit valence for atom # 2420 C, 5, is greater than permitted\n"
     ]
    },
    {
     "name": "stdout",
     "output_type": "stream",
     "text": [
      "1R8H.pdb\n"
     ]
    },
    {
     "name": "stderr",
     "output_type": "stream",
     "text": [
      " 45%|████▌     | 3191/7038 [12:01<3:34:03,  3.34s/it] [21:50:11] Explicit valence for atom # 963 O, 3, is greater than permitted\n",
      " 45%|████▌     | 3194/7038 [12:01<2:34:22,  2.41s/it][21:50:12] Explicit valence for atom # 6999 C, 5, is greater than permitted\n",
      " 45%|████▌     | 3196/7038 [12:02<2:02:48,  1.92s/it]"
     ]
    },
    {
     "name": "stdout",
     "output_type": "stream",
     "text": [
      "1GJA.pdb\n",
      "1MDA.pdb\n"
     ]
    },
    {
     "name": "stderr",
     "output_type": "stream",
     "text": [
      " 46%|████▌     | 3206/7038 [12:03<38:41,  1.65it/s]  [21:50:13] Explicit valence for atom # 2234 O, 3, is greater than permitted\n",
      " 46%|████▌     | 3218/7038 [12:04<09:47,  6.50it/s]"
     ]
    },
    {
     "name": "stdout",
     "output_type": "stream",
     "text": [
      "1PY4.pdb\n"
     ]
    },
    {
     "name": "stderr",
     "output_type": "stream",
     "text": [
      " 46%|████▌     | 3221/7038 [12:04<07:46,  8.17it/s][21:50:14] WARNING: not removing hydrogen atom without neighbors\n",
      "[21:50:14] WARNING: not removing hydrogen atom without neighbors\n",
      " 46%|████▌     | 3227/7038 [12:04<05:40, 11.21it/s][21:50:14] Explicit valence for atom # 17508 O, 3, is greater than permitted\n",
      " 46%|████▌     | 3237/7038 [12:05<04:24, 14.39it/s]"
     ]
    },
    {
     "name": "stdout",
     "output_type": "stream",
     "text": [
      "1OCZ.pdb\n"
     ]
    },
    {
     "name": "stderr",
     "output_type": "stream",
     "text": [
      " 47%|████▋     | 3276/7038 [12:07<04:24, 14.22it/s][21:50:17] WARNING: not removing hydrogen atom without neighbors\n",
      "[21:50:17] WARNING: not removing hydrogen atom without neighbors\n",
      "[21:50:17] WARNING: not removing hydrogen atom without neighbors\n",
      " 47%|████▋     | 3295/7038 [12:09<03:27, 18.05it/s][21:50:19] Explicit valence for atom # 937 O, 3, is greater than permitted\n",
      " 47%|████▋     | 3298/7038 [12:09<03:20, 18.63it/s][21:50:19] Explicit valence for atom # 9241 Mg, 4, is greater than permitted\n",
      " 47%|████▋     | 3301/7038 [12:09<03:24, 18.30it/s]"
     ]
    },
    {
     "name": "stdout",
     "output_type": "stream",
     "text": [
      "1TYE.pdb\n",
      "1EYS.pdb\n"
     ]
    },
    {
     "name": "stderr",
     "output_type": "stream",
     "text": [
      " 47%|████▋     | 3341/7038 [12:12<03:20, 18.40it/s][21:50:22] Explicit valence for atom # 515 O, 3, is greater than permitted\n"
     ]
    },
    {
     "name": "stdout",
     "output_type": "stream",
     "text": [
      "1H3G.pdb\n"
     ]
    },
    {
     "name": "stderr",
     "output_type": "stream",
     "text": [
      " 48%|████▊     | 3351/7038 [12:13<06:47,  9.05it/s][21:50:23] WARNING: not removing hydrogen atom without neighbors\n",
      " 48%|████▊     | 3366/7038 [12:14<04:21, 14.07it/s][21:50:24] Explicit valence for atom # 10347 C, 5, is greater than permitted\n",
      " 48%|████▊     | 3373/7038 [12:14<03:24, 17.95it/s]"
     ]
    },
    {
     "name": "stdout",
     "output_type": "stream",
     "text": [
      "1L0N.pdb\n"
     ]
    },
    {
     "name": "stderr",
     "output_type": "stream",
     "text": [
      " 48%|████▊     | 3381/7038 [12:16<08:39,  7.04it/s][21:50:26] Explicit valence for atom # 4419 O, 3, is greater than permitted\n",
      " 48%|████▊     | 3384/7038 [12:17<06:45,  9.00it/s][21:50:27] Explicit valence for atom # 520 O, 5, is greater than permitted\n"
     ]
    },
    {
     "name": "stdout",
     "output_type": "stream",
     "text": [
      "1GHQ.pdb\n",
      "1JWO.pdb\n"
     ]
    },
    {
     "name": "stderr",
     "output_type": "stream",
     "text": [
      " 48%|████▊     | 3394/7038 [12:17<03:40, 16.54it/s][21:50:27] \n",
      "\n",
      "****\n",
      "Post-condition Violation\n",
      "Element 'X' not found\n",
      "Violation occurred on line 93 in file /home/conda/feedstock_root/build_artifacts/rdkit_1651075175949/work/Code/GraphMol/PeriodicTable.h\n",
      "Failed Expression: anum > -1\n",
      "****\n",
      "\n",
      " 48%|████▊     | 3400/7038 [12:17<02:43, 22.28it/s]"
     ]
    },
    {
     "name": "stdout",
     "output_type": "stream",
     "text": [
      "1YBZ.pdb\n"
     ]
    },
    {
     "name": "stderr",
     "output_type": "stream",
     "text": [
      "[21:50:27] Explicit valence for atom # 856 O, 3, is greater than permitted\n",
      " 48%|████▊     | 3406/7038 [12:17<02:48, 21.50it/s]"
     ]
    },
    {
     "name": "stdout",
     "output_type": "stream",
     "text": [
      "1T7V.pdb\n"
     ]
    },
    {
     "name": "stderr",
     "output_type": "stream",
     "text": [
      "[21:50:28] Explicit valence for atom # 54 C, 7, is greater than permitted\n",
      " 48%|████▊     | 3412/7038 [12:18<03:00, 20.05it/s]"
     ]
    },
    {
     "name": "stdout",
     "output_type": "stream",
     "text": [
      "1GJJ.pdb\n"
     ]
    },
    {
     "name": "stderr",
     "output_type": "stream",
     "text": [
      " 49%|████▊     | 3424/7038 [12:19<03:50, 15.67it/s][21:50:31] Explicit valence for atom # 8468 C, 5, is greater than permitted\n",
      " 49%|████▊     | 3431/7038 [12:21<12:15,  4.91it/s]"
     ]
    },
    {
     "name": "stdout",
     "output_type": "stream",
     "text": [
      "1ETH.pdb\n"
     ]
    },
    {
     "name": "stderr",
     "output_type": "stream",
     "text": [
      " 49%|████▉     | 3450/7038 [12:22<03:44, 16.01it/s][21:50:32] Explicit valence for atom # 342 O, 3, is greater than permitted\n",
      " 49%|████▉     | 3453/7038 [12:22<03:21, 17.83it/s]"
     ]
    },
    {
     "name": "stdout",
     "output_type": "stream",
     "text": [
      "1DLP.pdb\n"
     ]
    },
    {
     "name": "stderr",
     "output_type": "stream",
     "text": [
      " 49%|████▉     | 3456/7038 [12:22<05:04, 11.78it/s][21:50:33] Explicit valence for atom # 6630 O, 3, is greater than permitted\n",
      " 49%|████▉     | 3464/7038 [12:23<04:09, 14.33it/s]"
     ]
    },
    {
     "name": "stdout",
     "output_type": "stream",
     "text": [
      "1P8X.pdb\n"
     ]
    },
    {
     "name": "stderr",
     "output_type": "stream",
     "text": [
      " 49%|████▉     | 3479/7038 [12:25<04:59, 11.87it/s][21:50:35] Explicit valence for atom # 2398 O, 3, is greater than permitted\n",
      " 49%|████▉     | 3481/7038 [12:25<04:58, 11.94it/s][21:50:35] Explicit valence for atom # 2001 Mg, 4, is greater than permitted\n",
      " 50%|████▉     | 3485/7038 [12:25<04:07, 14.37it/s]"
     ]
    },
    {
     "name": "stdout",
     "output_type": "stream",
     "text": [
      "1SU3.pdb\n",
      "1IJD.pdb\n"
     ]
    },
    {
     "name": "stderr",
     "output_type": "stream",
     "text": [
      "[21:50:35] Explicit valence for atom # 3420 O, 3, is greater than permitted\n",
      " 50%|████▉     | 3487/7038 [12:25<04:18, 13.73it/s]"
     ]
    },
    {
     "name": "stdout",
     "output_type": "stream",
     "text": [
      "1P3P.pdb\n"
     ]
    },
    {
     "name": "stderr",
     "output_type": "stream",
     "text": [
      " 50%|████▉     | 3511/7038 [12:30<04:27, 13.20it/s][21:50:40] \n",
      "\n",
      "****\n",
      "Post-condition Violation\n",
      "Element 'X' not found\n",
      "Violation occurred on line 93 in file /home/conda/feedstock_root/build_artifacts/rdkit_1651075175949/work/Code/GraphMol/PeriodicTable.h\n",
      "Failed Expression: anum > -1\n",
      "****\n",
      "\n",
      " 50%|████▉     | 3514/7038 [12:30<04:18, 13.65it/s]"
     ]
    },
    {
     "name": "stdout",
     "output_type": "stream",
     "text": [
      "2AOC.pdb\n"
     ]
    },
    {
     "name": "stderr",
     "output_type": "stream",
     "text": [
      " 50%|█████     | 3547/7038 [12:32<03:34, 16.31it/s][21:50:42] Explicit valence for atom # 50 O, 3, is greater than permitted\n",
      " 50%|█████     | 3550/7038 [12:32<03:55, 14.83it/s][21:50:42] Explicit valence for atom # 6291 O, 3, is greater than permitted\n"
     ]
    },
    {
     "name": "stdout",
     "output_type": "stream",
     "text": [
      "1GK7.pdb\n"
     ]
    },
    {
     "name": "stderr",
     "output_type": "stream",
     "text": [
      " 50%|█████     | 3552/7038 [12:33<05:14, 11.10it/s]"
     ]
    },
    {
     "name": "stdout",
     "output_type": "stream",
     "text": [
      "1JS8.pdb\n"
     ]
    },
    {
     "name": "stderr",
     "output_type": "stream",
     "text": [
      " 52%|█████▏    | 3661/7038 [12:42<02:56, 19.14it/s][21:50:52] Explicit valence for atom # 3386 O, 3, is greater than permitted\n",
      " 52%|█████▏    | 3664/7038 [12:42<02:41, 20.88it/s]"
     ]
    },
    {
     "name": "stdout",
     "output_type": "stream",
     "text": [
      "1R3E.pdb\n"
     ]
    },
    {
     "name": "stderr",
     "output_type": "stream",
     "text": [
      " 53%|█████▎    | 3699/7038 [12:45<02:50, 19.56it/s][21:50:55] WARNING: not removing hydrogen atom without neighbors\n",
      "[21:50:55] WARNING: not removing hydrogen atom without neighbors\n",
      " 53%|█████▎    | 3755/7038 [12:50<03:52, 14.12it/s][21:51:00] Explicit valence for atom # 690 O, 3, is greater than permitted\n",
      " 53%|█████▎    | 3760/7038 [12:51<03:36, 15.17it/s]"
     ]
    },
    {
     "name": "stdout",
     "output_type": "stream",
     "text": [
      "1WRI.pdb\n"
     ]
    },
    {
     "name": "stderr",
     "output_type": "stream",
     "text": [
      " 53%|█████▎    | 3765/7038 [12:51<03:19, 16.38it/s][21:51:01] Explicit valence for atom # 3938 O, 3, is greater than permitted\n",
      " 54%|█████▎    | 3767/7038 [12:51<03:36, 15.10it/s][21:51:01] Explicit valence for atom # 1549 O, 3, is greater than permitted\n",
      " 54%|█████▎    | 3771/7038 [12:51<03:00, 18.09it/s]"
     ]
    },
    {
     "name": "stdout",
     "output_type": "stream",
     "text": [
      "1FFT.pdb\n",
      "1U92.pdb\n"
     ]
    },
    {
     "name": "stderr",
     "output_type": "stream",
     "text": [
      " 54%|█████▎    | 3779/7038 [12:52<02:40, 20.33it/s][21:51:02] Explicit valence for atom # 33 O, 3, is greater than permitted\n",
      " 54%|█████▍    | 3785/7038 [12:52<04:05, 13.22it/s]"
     ]
    },
    {
     "name": "stdout",
     "output_type": "stream",
     "text": [
      "1Y0N.pdb\n"
     ]
    },
    {
     "name": "stderr",
     "output_type": "stream",
     "text": [
      " 54%|█████▍    | 3792/7038 [12:52<02:45, 19.61it/s][21:51:02] Explicit valence for atom # 13264 O, 3, is greater than permitted\n",
      " 54%|█████▍    | 3798/7038 [12:53<02:46, 19.49it/s]"
     ]
    },
    {
     "name": "stdout",
     "output_type": "stream",
     "text": [
      "2BGC.pdb\n"
     ]
    },
    {
     "name": "stderr",
     "output_type": "stream",
     "text": [
      " 54%|█████▍    | 3811/7038 [12:54<03:58, 13.51it/s][21:51:04] Explicit valence for atom # 165 O, 3, is greater than permitted\n",
      "[21:51:04] Explicit valence for atom # 67 C, 5, is greater than permitted\n",
      " 54%|█████▍    | 3818/7038 [12:54<02:20, 22.94it/s][21:51:04] Explicit valence for atom # 627 O, 3, is greater than permitted\n",
      " 54%|█████▍    | 3821/7038 [12:54<03:35, 14.94it/s]"
     ]
    },
    {
     "name": "stdout",
     "output_type": "stream",
     "text": [
      "1NXB.pdb\n",
      "1CYC.pdb\n",
      "1T4O.pdb\n"
     ]
    },
    {
     "name": "stderr",
     "output_type": "stream",
     "text": [
      " 55%|█████▍    | 3844/7038 [12:56<03:32, 15.03it/s][21:51:06] Explicit valence for atom # 10457 C, 6, is greater than permitted\n",
      " 55%|█████▍    | 3852/7038 [12:56<02:44, 19.37it/s]"
     ]
    },
    {
     "name": "stdout",
     "output_type": "stream",
     "text": [
      "1P3K.pdb\n"
     ]
    },
    {
     "name": "stderr",
     "output_type": "stream",
     "text": [
      " 55%|█████▍    | 3856/7038 [12:56<02:40, 19.87it/s][21:51:06] Explicit valence for atom # 2337 O, 3, is greater than permitted\n",
      " 55%|█████▍    | 3863/7038 [12:57<02:14, 23.68it/s]"
     ]
    },
    {
     "name": "stdout",
     "output_type": "stream",
     "text": [
      "1RIW.pdb\n"
     ]
    },
    {
     "name": "stderr",
     "output_type": "stream",
     "text": [
      " 55%|█████▌    | 3874/7038 [12:57<02:15, 23.38it/s][21:51:07] Explicit valence for atom # 199 O, 3, is greater than permitted\n",
      " 55%|█████▌    | 3877/7038 [12:57<02:17, 22.96it/s][21:51:07] WARNING: not removing hydrogen atom without neighbors\n",
      "[21:51:07] WARNING: not removing hydrogen atom without neighbors\n",
      "[21:51:07] WARNING: not removing hydrogen atom without neighbors\n"
     ]
    },
    {
     "name": "stdout",
     "output_type": "stream",
     "text": [
      "1TMF.pdb\n"
     ]
    },
    {
     "name": "stderr",
     "output_type": "stream",
     "text": [
      " 55%|█████▌    | 3900/7038 [12:59<03:16, 15.98it/s][21:51:09] Explicit valence for atom # 2854 C, 6, is greater than permitted\n",
      " 55%|█████▌    | 3904/7038 [13:00<03:43, 14.00it/s]"
     ]
    },
    {
     "name": "stdout",
     "output_type": "stream",
     "text": [
      "1A3X.pdb\n"
     ]
    },
    {
     "name": "stderr",
     "output_type": "stream",
     "text": [
      " 56%|█████▌    | 3907/7038 [13:00<03:17, 15.83it/s][21:51:10] Explicit valence for atom # 9552 Mg, 4, is greater than permitted\n",
      " 56%|█████▌    | 3909/7038 [13:00<03:24, 15.29it/s]"
     ]
    },
    {
     "name": "stdout",
     "output_type": "stream",
     "text": [
      "1DXR.pdb\n"
     ]
    },
    {
     "name": "stderr",
     "output_type": "stream",
     "text": [
      " 56%|█████▌    | 3944/7038 [13:03<03:55, 13.12it/s][21:51:13] Explicit valence for atom # 2896 O, 3, is greater than permitted\n",
      " 56%|█████▌    | 3948/7038 [13:03<04:10, 12.31it/s]"
     ]
    },
    {
     "name": "stdout",
     "output_type": "stream",
     "text": [
      "1LP9.pdb\n"
     ]
    },
    {
     "name": "stderr",
     "output_type": "stream",
     "text": [
      " 56%|█████▋    | 3963/7038 [13:04<04:36, 11.11it/s][21:51:14] Explicit valence for atom # 2874 O, 3, is greater than permitted\n",
      " 56%|█████▋    | 3967/7038 [13:04<04:10, 12.24it/s]"
     ]
    },
    {
     "name": "stdout",
     "output_type": "stream",
     "text": [
      "1CHU.pdb\n"
     ]
    },
    {
     "name": "stderr",
     "output_type": "stream",
     "text": [
      " 56%|█████▋    | 3976/7038 [13:05<03:27, 14.74it/s][21:51:15] Explicit valence for atom # 1258 O, 3, is greater than permitted\n",
      " 57%|█████▋    | 3980/7038 [13:05<02:35, 19.64it/s]"
     ]
    },
    {
     "name": "stdout",
     "output_type": "stream",
     "text": [
      "1VGK.pdb\n"
     ]
    },
    {
     "name": "stderr",
     "output_type": "stream",
     "text": [
      " 57%|█████▋    | 3983/7038 [13:05<02:49, 18.02it/s][21:51:15] Explicit valence for atom # 1370 O, 3, is greater than permitted\n",
      " 57%|█████▋    | 3993/7038 [13:06<02:08, 23.77it/s]"
     ]
    },
    {
     "name": "stdout",
     "output_type": "stream",
     "text": [
      "2ASS.pdb\n"
     ]
    },
    {
     "name": "stderr",
     "output_type": "stream",
     "text": [
      " 57%|█████▋    | 4000/7038 [13:06<02:29, 20.39it/s][21:51:16] Explicit valence for atom # 7203 Mg, 4, is greater than permitted\n",
      "[21:51:16] Explicit valence for atom # 34 O, 3, is greater than permitted\n",
      " 57%|█████▋    | 4007/7038 [13:07<03:13, 15.64it/s]"
     ]
    },
    {
     "name": "stdout",
     "output_type": "stream",
     "text": [
      "1L9B.pdb\n",
      "1BGX.pdb\n"
     ]
    },
    {
     "name": "stderr",
     "output_type": "stream",
     "text": [
      " 57%|█████▋    | 4015/7038 [13:07<02:24, 20.95it/s][21:51:17] Explicit valence for atom # 2722 O, 3, is greater than permitted\n",
      " 57%|█████▋    | 4019/7038 [13:07<02:36, 19.26it/s]"
     ]
    },
    {
     "name": "stdout",
     "output_type": "stream",
     "text": [
      "1OAY.pdb\n"
     ]
    },
    {
     "name": "stderr",
     "output_type": "stream",
     "text": [
      " 57%|█████▋    | 4038/7038 [13:09<03:41, 13.56it/s][21:51:19] Explicit valence for atom # 1806 O, 3, is greater than permitted\n",
      "[21:51:19] Explicit valence for atom # 3488 C, 5, is greater than permitted\n",
      " 57%|█████▋    | 4041/7038 [13:09<03:19, 15.03it/s]"
     ]
    },
    {
     "name": "stdout",
     "output_type": "stream",
     "text": [
      "1A8V.pdb\n",
      "1UPN.pdb\n"
     ]
    },
    {
     "name": "stderr",
     "output_type": "stream",
     "text": [
      " 58%|█████▊    | 4086/7038 [13:13<02:09, 22.73it/s][21:51:23] Explicit valence for atom # 13823 O, 3, is greater than permitted\n",
      " 58%|█████▊    | 4092/7038 [13:13<02:42, 18.10it/s]"
     ]
    },
    {
     "name": "stdout",
     "output_type": "stream",
     "text": [
      "1HR8.pdb\n"
     ]
    },
    {
     "name": "stderr",
     "output_type": "stream",
     "text": [
      " 58%|█████▊    | 4095/7038 [13:14<04:15, 11.53it/s][21:51:24] Explicit valence for atom # 15867 C, 5, is greater than permitted\n",
      " 58%|█████▊    | 4097/7038 [13:14<03:56, 12.43it/s]"
     ]
    },
    {
     "name": "stdout",
     "output_type": "stream",
     "text": [
      "1XPU.pdb\n"
     ]
    },
    {
     "name": "stderr",
     "output_type": "stream",
     "text": [
      " 58%|█████▊    | 4117/7038 [13:15<02:17, 21.20it/s][21:51:25] WARNING: not removing hydrogen atom without neighbors\n",
      " 59%|█████▉    | 4151/7038 [13:19<04:24, 10.90it/s][21:51:29] Explicit valence for atom # 2458 Br, 2, is greater than permitted\n",
      " 59%|█████▉    | 4158/7038 [13:19<02:55, 16.42it/s]"
     ]
    },
    {
     "name": "stdout",
     "output_type": "stream",
     "text": [
      "1DD4.pdb\n"
     ]
    },
    {
     "name": "stderr",
     "output_type": "stream",
     "text": [
      " 59%|█████▉    | 4182/7038 [13:20<02:27, 19.34it/s][21:51:31] Explicit valence for atom # 22 C, 5, is greater than permitted\n",
      " 59%|█████▉    | 4185/7038 [13:21<03:38, 13.08it/s]"
     ]
    },
    {
     "name": "stdout",
     "output_type": "stream",
     "text": [
      "1DKX.pdb\n"
     ]
    },
    {
     "name": "stderr",
     "output_type": "stream",
     "text": [
      " 60%|█████▉    | 4198/7038 [13:21<02:30, 18.81it/s][21:51:31] Explicit valence for atom # 4084 O, 3, is greater than permitted\n",
      " 60%|█████▉    | 4203/7038 [13:22<04:25, 10.66it/s]"
     ]
    },
    {
     "name": "stdout",
     "output_type": "stream",
     "text": [
      "1VZY.pdb\n"
     ]
    },
    {
     "name": "stderr",
     "output_type": "stream",
     "text": [
      "[21:51:32] Explicit valence for atom # 3651 C, 5, is greater than permitted\n",
      " 60%|█████▉    | 4211/7038 [13:22<03:29, 13.50it/s]"
     ]
    },
    {
     "name": "stdout",
     "output_type": "stream",
     "text": [
      "1KY9.pdb\n"
     ]
    },
    {
     "name": "stderr",
     "output_type": "stream",
     "text": [
      " 60%|██████    | 4253/7038 [13:26<02:39, 17.47it/s][21:51:36] Explicit valence for atom # 2456 O, 3, is greater than permitted\n",
      " 60%|██████    | 4256/7038 [13:26<02:21, 19.63it/s]"
     ]
    },
    {
     "name": "stdout",
     "output_type": "stream",
     "text": [
      "1MAM.pdb\n"
     ]
    },
    {
     "name": "stderr",
     "output_type": "stream",
     "text": [
      " 61%|██████    | 4274/7038 [13:27<02:19, 19.76it/s][21:51:37] Explicit valence for atom # 3 O, 4, is greater than permitted\n",
      " 61%|██████    | 4277/7038 [13:27<02:15, 20.32it/s]"
     ]
    },
    {
     "name": "stdout",
     "output_type": "stream",
     "text": [
      "2TAA.pdb\n"
     ]
    },
    {
     "name": "stderr",
     "output_type": "stream",
     "text": [
      " 61%|██████    | 4298/7038 [13:28<03:03, 14.95it/s][21:51:38] Explicit valence for atom # 941 O, 3, is greater than permitted\n",
      " 61%|██████    | 4301/7038 [13:28<02:54, 15.71it/s]"
     ]
    },
    {
     "name": "stdout",
     "output_type": "stream",
     "text": [
      "1I4K.pdb\n"
     ]
    },
    {
     "name": "stderr",
     "output_type": "stream",
     "text": [
      " 62%|██████▏   | 4362/7038 [13:33<02:22, 18.72it/s][21:51:43] Explicit valence for atom # 219 O, 3, is greater than permitted\n",
      " 62%|██████▏   | 4371/7038 [13:33<02:43, 16.31it/s]"
     ]
    },
    {
     "name": "stdout",
     "output_type": "stream",
     "text": [
      "1Z1G.pdb\n"
     ]
    },
    {
     "name": "stderr",
     "output_type": "stream",
     "text": [
      " 62%|██████▏   | 4390/7038 [13:35<03:22, 13.10it/s][21:51:45] Explicit valence for atom # 455 O, 3, is greater than permitted\n",
      " 62%|██████▏   | 4394/7038 [13:35<03:13, 13.64it/s]"
     ]
    },
    {
     "name": "stdout",
     "output_type": "stream",
     "text": [
      "1FXI.pdb\n"
     ]
    },
    {
     "name": "stderr",
     "output_type": "stream",
     "text": [
      " 63%|██████▎   | 4411/7038 [13:36<02:17, 19.05it/s][21:51:46] Explicit valence for atom # 656 O, 3, is greater than permitted\n",
      " 63%|██████▎   | 4415/7038 [13:36<01:57, 22.31it/s][21:51:46] Explicit valence for atom # 13808 O, 3, is greater than permitted\n"
     ]
    },
    {
     "name": "stdout",
     "output_type": "stream",
     "text": [
      "2PKA.pdb\n"
     ]
    },
    {
     "name": "stderr",
     "output_type": "stream",
     "text": [
      " 63%|██████▎   | 4419/7038 [13:36<02:04, 21.01it/s][21:51:46] Explicit valence for atom # 2 C, 5, is greater than permitted\n",
      " 63%|██████▎   | 4422/7038 [13:36<01:59, 21.93it/s]"
     ]
    },
    {
     "name": "stdout",
     "output_type": "stream",
     "text": [
      "1N5W.pdb\n",
      "1LD9.pdb\n"
     ]
    },
    {
     "name": "stderr",
     "output_type": "stream",
     "text": [
      "[21:51:46] \n",
      "\n",
      "****\n",
      "Post-condition Violation\n",
      "Element 'X' not found\n",
      "Violation occurred on line 93 in file /home/conda/feedstock_root/build_artifacts/rdkit_1651075175949/work/Code/GraphMol/PeriodicTable.h\n",
      "Failed Expression: anum > -1\n",
      "****\n",
      "\n",
      " 63%|██████▎   | 4428/7038 [13:37<02:00, 21.63it/s]"
     ]
    },
    {
     "name": "stdout",
     "output_type": "stream",
     "text": [
      "1YBX.pdb\n"
     ]
    },
    {
     "name": "stderr",
     "output_type": "stream",
     "text": [
      " 63%|██████▎   | 4431/7038 [13:37<02:53, 15.06it/s][21:51:47] Explicit valence for atom # 1135 C, 6, is greater than permitted\n",
      " 63%|██████▎   | 4435/7038 [13:37<02:30, 17.34it/s][21:51:47] Explicit valence for atom # 862 O, 3, is greater than permitted\n",
      "[21:51:47] Explicit valence for atom # 12823 O, 4, is greater than permitted\n",
      " 63%|██████▎   | 4439/7038 [13:37<02:04, 20.91it/s]"
     ]
    },
    {
     "name": "stdout",
     "output_type": "stream",
     "text": [
      "1FN4.pdb\n",
      "1GM5.pdb\n",
      "2A73.pdb\n"
     ]
    },
    {
     "name": "stderr",
     "output_type": "stream",
     "text": [
      "[21:51:47] Explicit valence for atom # 2165 O, 3, is greater than permitted\n",
      " 63%|██████▎   | 4445/7038 [13:38<02:22, 18.24it/s]"
     ]
    },
    {
     "name": "stdout",
     "output_type": "stream",
     "text": [
      "1BRW.pdb\n"
     ]
    },
    {
     "name": "stderr",
     "output_type": "stream",
     "text": [
      " 63%|██████▎   | 4457/7038 [13:38<02:24, 17.91it/s][21:51:48] \n",
      "\n",
      "****\n",
      "Post-condition Violation\n",
      "Element 'X' not found\n",
      "Violation occurred on line 93 in file /home/conda/feedstock_root/build_artifacts/rdkit_1651075175949/work/Code/GraphMol/PeriodicTable.h\n",
      "Failed Expression: anum > -1\n",
      "****\n",
      "\n",
      " 63%|██████▎   | 4459/7038 [13:38<02:34, 16.68it/s][21:51:49] \n",
      "\n",
      "****\n",
      "Post-condition Violation\n",
      "Element 'X' not found\n",
      "Violation occurred on line 93 in file /home/conda/feedstock_root/build_artifacts/rdkit_1651075175949/work/Code/GraphMol/PeriodicTable.h\n",
      "Failed Expression: anum > -1\n",
      "****\n",
      "\n",
      " 63%|██████▎   | 4463/7038 [13:39<02:37, 16.30it/s]"
     ]
    },
    {
     "name": "stdout",
     "output_type": "stream",
     "text": [
      "4CPA.pdb\n",
      "2ATC.pdb\n"
     ]
    },
    {
     "name": "stderr",
     "output_type": "stream",
     "text": [
      " 63%|██████▎   | 4466/7038 [13:39<03:36, 11.86it/s][21:51:49] Explicit valence for atom # 10 C, 5, is greater than permitted\n",
      " 64%|██████▎   | 4471/7038 [13:39<02:54, 14.72it/s]"
     ]
    },
    {
     "name": "stdout",
     "output_type": "stream",
     "text": [
      "1SYX.pdb\n"
     ]
    },
    {
     "name": "stderr",
     "output_type": "stream",
     "text": [
      " 64%|██████▎   | 4484/7038 [13:40<01:55, 22.11it/s][21:51:50] Explicit valence for atom # 19233 C, 5, is greater than permitted\n",
      " 64%|██████▍   | 4489/7038 [13:40<03:12, 13.26it/s]"
     ]
    },
    {
     "name": "stdout",
     "output_type": "stream",
     "text": [
      "1RZI.pdb\n"
     ]
    },
    {
     "name": "stderr",
     "output_type": "stream",
     "text": [
      " 64%|██████▍   | 4526/7038 [13:42<01:33, 26.81it/s][21:51:52] Explicit valence for atom # 1445 O, 3, is greater than permitted\n",
      "[21:51:52] Explicit valence for atom # 43 C, 5, is greater than permitted\n",
      " 64%|██████▍   | 4532/7038 [13:42<01:19, 31.48it/s][21:51:52] Explicit valence for atom # 1124 C, 5, is greater than permitted\n",
      " 64%|██████▍   | 4536/7038 [13:42<01:27, 28.59it/s]"
     ]
    },
    {
     "name": "stdout",
     "output_type": "stream",
     "text": [
      "1L3W.pdb\n",
      "1ACX.pdb\n",
      "1UT9.pdb\n"
     ]
    },
    {
     "name": "stderr",
     "output_type": "stream",
     "text": [
      " 65%|██████▌   | 4577/7038 [13:44<02:07, 19.34it/s][21:51:54] Explicit valence for atom # 12 O, 3, is greater than permitted\n",
      " 65%|██████▌   | 4582/7038 [13:45<02:41, 15.22it/s]"
     ]
    },
    {
     "name": "stdout",
     "output_type": "stream",
     "text": [
      "1C7W.pdb\n"
     ]
    },
    {
     "name": "stderr",
     "output_type": "stream",
     "text": [
      " 65%|██████▌   | 4588/7038 [13:45<02:11, 18.69it/s][21:51:55] Explicit valence for atom # 5238 C, 5, is greater than permitted\n",
      " 65%|██████▌   | 4594/7038 [13:45<02:15, 18.07it/s]"
     ]
    },
    {
     "name": "stdout",
     "output_type": "stream",
     "text": [
      "1TTT.pdb\n"
     ]
    },
    {
     "name": "stderr",
     "output_type": "stream",
     "text": [
      " 65%|██████▌   | 4599/7038 [13:46<03:11, 12.73it/s][21:51:56] Explicit valence for atom # 3636 O, 3, is greater than permitted\n",
      " 65%|██████▌   | 4602/7038 [13:46<02:38, 15.41it/s][21:51:56] Explicit valence for atom # 3198 O, 3, is greater than permitted\n",
      " 65%|██████▌   | 4607/7038 [13:46<02:23, 16.96it/s]"
     ]
    },
    {
     "name": "stdout",
     "output_type": "stream",
     "text": [
      "1RHI.pdb\n",
      "1MCW.pdb\n"
     ]
    },
    {
     "name": "stderr",
     "output_type": "stream",
     "text": [
      " 67%|██████▋   | 4702/7038 [13:53<01:45, 22.04it/s][21:52:03] Explicit valence for atom # 3 O, 3, is greater than permitted\n",
      " 67%|██████▋   | 4708/7038 [13:54<02:32, 15.32it/s]"
     ]
    },
    {
     "name": "stdout",
     "output_type": "stream",
     "text": [
      "1MN8.pdb\n"
     ]
    },
    {
     "name": "stderr",
     "output_type": "stream",
     "text": [
      " 67%|██████▋   | 4710/7038 [13:54<04:27,  8.71it/s][21:52:04] Explicit valence for atom # 305 C, 5, is greater than permitted\n",
      " 67%|██████▋   | 4712/7038 [13:55<04:50,  8.00it/s]"
     ]
    },
    {
     "name": "stdout",
     "output_type": "stream",
     "text": [
      "1GSM.pdb\n"
     ]
    },
    {
     "name": "stderr",
     "output_type": "stream",
     "text": [
      " 67%|██████▋   | 4719/7038 [13:55<03:35, 10.76it/s][21:52:05] Explicit valence for atom # 2536 O, 3, is greater than permitted\n",
      " 67%|██████▋   | 4725/7038 [13:55<02:48, 13.71it/s]"
     ]
    },
    {
     "name": "stdout",
     "output_type": "stream",
     "text": [
      "1WLH.pdb\n"
     ]
    },
    {
     "name": "stderr",
     "output_type": "stream",
     "text": [
      " 68%|██████▊   | 4754/7038 [13:58<07:11,  5.29it/s][21:52:08] Explicit valence for atom # 56 O, 3, is greater than permitted\n",
      " 68%|██████▊   | 4761/7038 [13:58<03:27, 10.99it/s]"
     ]
    },
    {
     "name": "stdout",
     "output_type": "stream",
     "text": [
      "1Q2I.pdb\n"
     ]
    },
    {
     "name": "stderr",
     "output_type": "stream",
     "text": [
      " 68%|██████▊   | 4779/7038 [14:00<02:54, 12.94it/s][21:52:10] Explicit valence for atom # 1155 O, 3, is greater than permitted\n",
      " 68%|██████▊   | 4786/7038 [14:00<02:43, 13.78it/s]"
     ]
    },
    {
     "name": "stdout",
     "output_type": "stream",
     "text": [
      "1G8Q.pdb\n"
     ]
    },
    {
     "name": "stderr",
     "output_type": "stream",
     "text": [
      " 68%|██████▊   | 4801/7038 [14:01<03:31, 10.58it/s][21:52:11] Explicit valence for atom # 5804 Be, 4, is greater than permitted\n",
      " 68%|██████▊   | 4805/7038 [14:01<02:28, 15.02it/s]"
     ]
    },
    {
     "name": "stdout",
     "output_type": "stream",
     "text": [
      "1D1B.pdb\n"
     ]
    },
    {
     "name": "stderr",
     "output_type": "stream",
     "text": [
      " 68%|██████▊   | 4817/7038 [14:02<01:38, 22.52it/s][21:52:12] Explicit valence for atom # 1520 O, 3, is greater than permitted\n",
      " 69%|██████▊   | 4824/7038 [14:02<01:26, 25.52it/s]"
     ]
    },
    {
     "name": "stdout",
     "output_type": "stream",
     "text": [
      "1IXS.pdb\n"
     ]
    },
    {
     "name": "stderr",
     "output_type": "stream",
     "text": [
      " 69%|██████▊   | 4835/7038 [14:03<01:58, 18.61it/s][21:52:13] Explicit valence for atom # 617 O, 3, is greater than permitted\n",
      "[21:52:13] Explicit valence for atom # 2174 O, 3, is greater than permitted\n",
      " 69%|██████▉   | 4840/7038 [14:03<01:31, 24.07it/s]"
     ]
    },
    {
     "name": "stdout",
     "output_type": "stream",
     "text": [
      "1GH5.pdb\n",
      "1T2K.pdb\n"
     ]
    },
    {
     "name": "stderr",
     "output_type": "stream",
     "text": [
      " 69%|██████▉   | 4858/7038 [14:04<02:13, 16.29it/s][21:52:14] Explicit valence for atom # 112 O, 3, is greater than permitted\n",
      " 69%|██████▉   | 4864/7038 [14:04<01:57, 18.47it/s]"
     ]
    },
    {
     "name": "stdout",
     "output_type": "stream",
     "text": [
      "1GFF.pdb\n"
     ]
    },
    {
     "name": "stderr",
     "output_type": "stream",
     "text": [
      " 69%|██████▉   | 4889/7038 [14:06<02:27, 14.60it/s][21:52:16] Explicit valence for atom # 92 C, 5, is greater than permitted\n",
      " 70%|██████▉   | 4893/7038 [14:06<02:16, 15.67it/s][21:52:16] \n",
      "\n",
      "****\n",
      "Post-condition Violation\n",
      "Element 'X' not found\n",
      "Violation occurred on line 93 in file /home/conda/feedstock_root/build_artifacts/rdkit_1651075175949/work/Code/GraphMol/PeriodicTable.h\n",
      "Failed Expression: anum > -1\n",
      "****\n",
      "\n",
      " 70%|██████▉   | 4896/7038 [14:06<02:02, 17.43it/s][21:52:16] Explicit valence for atom # 5542 O, 3, is greater than permitted\n",
      "[21:52:16] Explicit valence for atom # 2379 O, 3, is greater than permitted\n",
      " 70%|██████▉   | 4898/7038 [14:06<02:54, 12.25it/s]"
     ]
    },
    {
     "name": "stdout",
     "output_type": "stream",
     "text": [
      "1R24.pdb\n",
      "1XMA.pdb\n",
      "1YCE.pdb\n",
      "1XP4.pdb\n"
     ]
    },
    {
     "name": "stderr",
     "output_type": "stream",
     "text": [
      " 70%|██████▉   | 4911/7038 [14:07<01:51, 19.13it/s][21:52:17] Explicit valence for atom # 3550 O, 3, is greater than permitted\n",
      "[21:52:17] Explicit valence for atom # 110 O, 3, is greater than permitted\n",
      " 70%|██████▉   | 4914/7038 [14:07<01:57, 18.06it/s]"
     ]
    },
    {
     "name": "stdout",
     "output_type": "stream",
     "text": [
      "1R7R.pdb\n",
      "1VZH.pdb\n"
     ]
    },
    {
     "name": "stderr",
     "output_type": "stream",
     "text": [
      " 70%|██████▉   | 4917/7038 [14:08<02:56, 12.03it/s][21:52:18] Explicit valence for atom # 215 O, 3, is greater than permitted\n",
      " 70%|██████▉   | 4922/7038 [14:08<02:21, 14.98it/s]"
     ]
    },
    {
     "name": "stdout",
     "output_type": "stream",
     "text": [
      "2ABX.pdb\n"
     ]
    },
    {
     "name": "stderr",
     "output_type": "stream",
     "text": [
      "[21:52:18] Explicit valence for atom # 7553 Mg, 4, is greater than permitted\n",
      " 70%|███████   | 4929/7038 [14:08<01:56, 18.18it/s]"
     ]
    },
    {
     "name": "stdout",
     "output_type": "stream",
     "text": [
      "1Q90.pdb\n"
     ]
    },
    {
     "name": "stderr",
     "output_type": "stream",
     "text": [
      " 70%|███████   | 4939/7038 [14:09<02:29, 14.04it/s][21:52:19] Explicit valence for atom # 2755 B, 4, is greater than permitted\n",
      " 70%|███████   | 4944/7038 [14:09<01:47, 19.53it/s][21:52:19] Explicit valence for atom # 1929 O, 3, is greater than permitted\n",
      " 70%|███████   | 4948/7038 [14:10<01:38, 21.27it/s]"
     ]
    },
    {
     "name": "stdout",
     "output_type": "stream",
     "text": [
      "1Z6F.pdb\n",
      "1KWM.pdb\n"
     ]
    },
    {
     "name": "stderr",
     "output_type": "stream",
     "text": [
      " 70%|███████   | 4959/7038 [14:11<03:05, 11.22it/s][21:52:21] Explicit valence for atom # 132 O, 3, is greater than permitted\n",
      " 71%|███████   | 4962/7038 [14:11<02:30, 13.77it/s]"
     ]
    },
    {
     "name": "stdout",
     "output_type": "stream",
     "text": [
      "1WM8.pdb\n"
     ]
    },
    {
     "name": "stderr",
     "output_type": "stream",
     "text": [
      " 71%|███████   | 4998/7038 [14:15<02:26, 13.92it/s][21:52:25] Explicit valence for atom # 9182 C, 5, is greater than permitted\n",
      " 71%|███████   | 5007/7038 [14:15<01:29, 22.77it/s]"
     ]
    },
    {
     "name": "stdout",
     "output_type": "stream",
     "text": [
      "1L0W.pdb\n"
     ]
    },
    {
     "name": "stderr",
     "output_type": "stream",
     "text": [
      " 72%|███████▏  | 5035/7038 [14:17<01:59, 16.77it/s][21:52:27] \n",
      "\n",
      "****\n",
      "Post-condition Violation\n",
      "Element 'X' not found\n",
      "Violation occurred on line 93 in file /home/conda/feedstock_root/build_artifacts/rdkit_1651075175949/work/Code/GraphMol/PeriodicTable.h\n",
      "Failed Expression: anum > -1\n",
      "****\n",
      "\n",
      " 72%|███████▏  | 5040/7038 [14:17<02:25, 13.73it/s]"
     ]
    },
    {
     "name": "stdout",
     "output_type": "stream",
     "text": [
      "2C4B.pdb\n"
     ]
    },
    {
     "name": "stderr",
     "output_type": "stream",
     "text": [
      " 72%|███████▏  | 5042/7038 [14:17<02:50, 11.71it/s][21:52:28] Explicit valence for atom # 15751 B, 4, is greater than permitted\n",
      " 72%|███████▏  | 5044/7038 [14:18<02:56, 11.28it/s][21:52:28] Explicit valence for atom # 11727 O, 3, is greater than permitted\n",
      " 72%|███████▏  | 5047/7038 [14:18<02:28, 13.44it/s]"
     ]
    },
    {
     "name": "stdout",
     "output_type": "stream",
     "text": [
      "1B33.pdb\n",
      "1ZLA.pdb\n"
     ]
    },
    {
     "name": "stderr",
     "output_type": "stream",
     "text": [
      " 73%|███████▎  | 5141/7038 [14:38<05:11,  6.09it/s]  [21:52:48] \n",
      "\n",
      "****\n",
      "Post-condition Violation\n",
      "Element 'X' not found\n",
      "Violation occurred on line 93 in file /home/conda/feedstock_root/build_artifacts/rdkit_1651075175949/work/Code/GraphMol/PeriodicTable.h\n",
      "Failed Expression: anum > -1\n",
      "****\n",
      "\n",
      " 73%|███████▎  | 5144/7038 [14:38<04:12,  7.51it/s]"
     ]
    },
    {
     "name": "stdout",
     "output_type": "stream",
     "text": [
      "1RKT.pdb\n"
     ]
    },
    {
     "name": "stderr",
     "output_type": "stream",
     "text": [
      "[21:52:48] Explicit valence for atom # 3096 Mg, 4, is greater than permitted\n",
      " 73%|███████▎  | 5147/7038 [14:38<04:22,  7.21it/s]"
     ]
    },
    {
     "name": "stdout",
     "output_type": "stream",
     "text": [
      "1LGH.pdb\n"
     ]
    },
    {
     "name": "stderr",
     "output_type": "stream",
     "text": [
      " 74%|███████▎  | 5181/7038 [14:41<02:25, 12.77it/s][21:52:51] Explicit valence for atom # 733 O, 3, is greater than permitted\n",
      " 74%|███████▎  | 5183/7038 [14:41<02:31, 12.23it/s][21:52:51] Explicit valence for atom # 19251 Ne greater than permitted\n",
      " 74%|███████▎  | 5185/7038 [14:41<03:23,  9.13it/s]"
     ]
    },
    {
     "name": "stdout",
     "output_type": "stream",
     "text": [
      "1XO0.pdb\n",
      "2AXT.pdb\n"
     ]
    },
    {
     "name": "stderr",
     "output_type": "stream",
     "text": [
      " 74%|███████▎  | 5187/7038 [14:42<03:01, 10.19it/s][21:52:52] Explicit valence for atom # 1041 O, 3, is greater than permitted\n",
      " 74%|███████▍  | 5194/7038 [14:42<01:42, 17.96it/s]"
     ]
    },
    {
     "name": "stdout",
     "output_type": "stream",
     "text": [
      "1DIT.pdb\n"
     ]
    },
    {
     "name": "stderr",
     "output_type": "stream",
     "text": [
      " 75%|███████▍  | 5255/7038 [14:49<02:11, 13.56it/s][21:52:59] Explicit valence for atom # 3 O, 3, is greater than permitted\n",
      " 75%|███████▍  | 5260/7038 [14:49<02:11, 13.50it/s][21:52:59] Explicit valence for atom # 72 O, 3, is greater than permitted\n",
      " 75%|███████▍  | 5264/7038 [14:49<01:52, 15.77it/s]"
     ]
    },
    {
     "name": "stdout",
     "output_type": "stream",
     "text": [
      "1E08.pdb\n",
      "1IN1.pdb\n"
     ]
    },
    {
     "name": "stderr",
     "output_type": "stream",
     "text": [
      " 76%|███████▌  | 5322/7038 [14:53<01:53, 15.10it/s][21:53:03] Explicit valence for atom # 1557 O, 3, is greater than permitted\n",
      "[21:53:03] Explicit valence for atom # 2114 O, 3, is greater than permitted\n",
      " 76%|███████▌  | 5330/7038 [14:53<01:25, 20.08it/s][21:53:03] Explicit valence for atom # 3 O, 3, is greater than permitted\n"
     ]
    },
    {
     "name": "stdout",
     "output_type": "stream",
     "text": [
      "1AN4.pdb\n",
      "1BSB.pdb\n",
      "1KRL.pdb\n"
     ]
    },
    {
     "name": "stderr",
     "output_type": "stream",
     "text": [
      "[21:53:03] Explicit valence for atom # 6674 O, 3, is greater than permitted\n",
      " 76%|███████▌  | 5335/7038 [14:53<01:11, 23.91it/s][21:53:03] Explicit valence for atom # 8808 O, 4, is greater than permitted\n",
      " 76%|███████▌  | 5340/7038 [14:53<01:02, 27.12it/s][21:53:03] Explicit valence for atom # 1820 O, 3, is greater than permitted\n"
     ]
    },
    {
     "name": "stdout",
     "output_type": "stream",
     "text": [
      "1XCQ.pdb\n",
      "1QLE.pdb\n",
      "1P7Q.pdb\n"
     ]
    },
    {
     "name": "stderr",
     "output_type": "stream",
     "text": [
      " 76%|███████▌  | 5363/7038 [14:55<01:37, 17.14it/s][21:53:05] Explicit valence for atom # 3077 C, 5, is greater than permitted\n",
      " 76%|███████▋  | 5369/7038 [14:55<01:44, 15.95it/s]"
     ]
    },
    {
     "name": "stdout",
     "output_type": "stream",
     "text": [
      "1KCU.pdb\n"
     ]
    },
    {
     "name": "stderr",
     "output_type": "stream",
     "text": [
      " 76%|███████▋  | 5382/7038 [14:56<01:17, 21.41it/s][21:53:06] Explicit valence for atom # 12635 O, 3, is greater than permitted\n",
      " 77%|███████▋  | 5389/7038 [14:56<01:03, 26.06it/s][21:53:06] Explicit valence for atom # 230 O, 3, is greater than permitted\n",
      " 77%|███████▋  | 5392/7038 [14:56<01:08, 23.89it/s]"
     ]
    },
    {
     "name": "stdout",
     "output_type": "stream",
     "text": [
      "1UKL.pdb\n",
      "4RCR.pdb\n"
     ]
    },
    {
     "name": "stderr",
     "output_type": "stream",
     "text": [
      " 77%|███████▋  | 5425/7038 [14:58<01:50, 14.56it/s][21:53:08] Explicit valence for atom # 192 O, 3, is greater than permitted\n",
      " 77%|███████▋  | 5429/7038 [14:58<01:54, 14.07it/s]"
     ]
    },
    {
     "name": "stdout",
     "output_type": "stream",
     "text": [
      "3BBG.pdb\n"
     ]
    },
    {
     "name": "stderr",
     "output_type": "stream",
     "text": [
      " 77%|███████▋  | 5440/7038 [14:58<01:03, 25.09it/s][21:53:08] Explicit valence for atom # 565 O, 3, is greater than permitted\n",
      " 77%|███████▋  | 5447/7038 [14:59<01:11, 22.26it/s]"
     ]
    },
    {
     "name": "stdout",
     "output_type": "stream",
     "text": [
      "1EN2.pdb\n"
     ]
    },
    {
     "name": "stderr",
     "output_type": "stream",
     "text": [
      " 77%|███████▋  | 5453/7038 [14:59<01:10, 22.47it/s][21:53:09] WARNING: not removing hydrogen atom without neighbors\n",
      "[21:53:09] WARNING: not removing hydrogen atom without neighbors\n",
      "[21:53:09] WARNING: not removing hydrogen atom without neighbors\n",
      "[21:53:09] WARNING: not removing hydrogen atom without neighbors\n",
      "[21:53:09] WARNING: not removing hydrogen atom without neighbors\n",
      "[21:53:09] WARNING: not removing hydrogen atom without neighbors\n",
      "[21:53:09] WARNING: not removing hydrogen atom without neighbors\n",
      "[21:53:09] WARNING: not removing hydrogen atom without neighbors\n",
      "[21:53:09] WARNING: not removing hydrogen atom without neighbors\n",
      "[21:53:09] WARNING: not removing hydrogen atom without neighbors\n",
      "[21:53:09] WARNING: not removing hydrogen atom without neighbors\n",
      "[21:53:09] WARNING: not removing hydrogen atom without neighbors\n",
      "[21:53:09] WARNING: not removing hydrogen atom without neighbors\n",
      "[21:53:09] WARNING: not removing hydrogen atom without neighbors\n",
      "[21:53:09] WARNING: not removing hydrogen atom without neighbors\n",
      "[21:53:09] WARNING: not removing hydrogen atom without neighbors\n",
      "[21:53:09] Explicit valence for atom # 1 C, 9, is greater than permitted\n",
      " 78%|███████▊  | 5460/7038 [14:59<01:07, 23.32it/s]"
     ]
    },
    {
     "name": "stdout",
     "output_type": "stream",
     "text": [
      "1PXE.pdb\n"
     ]
    },
    {
     "name": "stderr",
     "output_type": "stream",
     "text": [
      " 78%|███████▊  | 5463/7038 [14:59<01:07, 23.25it/s][21:53:10] Explicit valence for atom # 32708 O, 3, is greater than permitted\n",
      " 78%|███████▊  | 5470/7038 [15:00<01:38, 15.87it/s]"
     ]
    },
    {
     "name": "stdout",
     "output_type": "stream",
     "text": [
      "1I94.pdb\n"
     ]
    },
    {
     "name": "stderr",
     "output_type": "stream",
     "text": [
      " 78%|███████▊  | 5517/7038 [15:04<01:58, 12.81it/s][21:53:14] Explicit valence for atom # 1765 C, 6, is greater than permitted\n",
      " 79%|███████▊  | 5529/7038 [15:04<01:14, 20.18it/s]"
     ]
    },
    {
     "name": "stdout",
     "output_type": "stream",
     "text": [
      "1LDT.pdb\n"
     ]
    },
    {
     "name": "stderr",
     "output_type": "stream",
     "text": [
      "[21:53:14] \n",
      "\n",
      "****\n",
      "Post-condition Violation\n",
      "Element 'X' not found\n",
      "Violation occurred on line 93 in file /home/conda/feedstock_root/build_artifacts/rdkit_1651075175949/work/Code/GraphMol/PeriodicTable.h\n",
      "Failed Expression: anum > -1\n",
      "****\n",
      "\n",
      " 79%|███████▊  | 5537/7038 [15:04<00:57, 26.10it/s]"
     ]
    },
    {
     "name": "stdout",
     "output_type": "stream",
     "text": [
      "1LD4.pdb\n"
     ]
    },
    {
     "name": "stderr",
     "output_type": "stream",
     "text": [
      " 79%|███████▉  | 5587/7038 [15:08<02:04, 11.62it/s][21:53:18] Explicit valence for atom # 11681 O, 3, is greater than permitted\n",
      " 79%|███████▉  | 5593/7038 [15:08<01:46, 13.58it/s]"
     ]
    },
    {
     "name": "stdout",
     "output_type": "stream",
     "text": [
      "1EQZ.pdb\n"
     ]
    },
    {
     "name": "stderr",
     "output_type": "stream",
     "text": [
      " 81%|████████  | 5666/7038 [15:12<00:56, 24.12it/s][21:53:22] Explicit valence for atom # 2321 O, 3, is greater than permitted\n",
      " 81%|████████  | 5672/7038 [15:12<01:07, 20.21it/s]"
     ]
    },
    {
     "name": "stdout",
     "output_type": "stream",
     "text": [
      "1YDP.pdb\n"
     ]
    },
    {
     "name": "stderr",
     "output_type": "stream",
     "text": [
      " 81%|████████  | 5710/7038 [15:14<01:03, 20.80it/s][21:53:24] Explicit valence for atom # 279 C, 7, is greater than permitted\n",
      " 81%|████████  | 5718/7038 [15:14<01:05, 20.28it/s]"
     ]
    },
    {
     "name": "stdout",
     "output_type": "stream",
     "text": [
      "1FAR.pdb\n"
     ]
    },
    {
     "name": "stderr",
     "output_type": "stream",
     "text": [
      " 82%|████████▏ | 5752/7038 [15:16<01:02, 20.54it/s][21:53:26] Explicit valence for atom # 159 O, 3, is greater than permitted\n",
      " 82%|████████▏ | 5755/7038 [15:16<01:03, 20.13it/s]"
     ]
    },
    {
     "name": "stdout",
     "output_type": "stream",
     "text": [
      "1FSE.pdb\n"
     ]
    },
    {
     "name": "stderr",
     "output_type": "stream",
     "text": [
      " 82%|████████▏ | 5773/7038 [15:18<01:37, 13.01it/s][21:53:28] Explicit valence for atom # 1645 O, 3, is greater than permitted\n",
      " 82%|████████▏ | 5778/7038 [15:18<01:11, 17.70it/s]"
     ]
    },
    {
     "name": "stdout",
     "output_type": "stream",
     "text": [
      "1DN0.pdb\n"
     ]
    },
    {
     "name": "stderr",
     "output_type": "stream",
     "text": [
      " 82%|████████▏ | 5799/7038 [15:19<01:14, 16.61it/s][21:53:30] Explicit valence for atom # 564 C, 5, is greater than permitted\n",
      " 82%|████████▏ | 5806/7038 [15:20<01:02, 19.81it/s]"
     ]
    },
    {
     "name": "stdout",
     "output_type": "stream",
     "text": [
      "2C9N.pdb\n"
     ]
    },
    {
     "name": "stderr",
     "output_type": "stream",
     "text": [
      " 83%|████████▎ | 5809/7038 [15:20<01:09, 17.69it/s][21:53:30] Explicit valence for atom # 3324 O, 3, is greater than permitted\n",
      " 83%|████████▎ | 5817/7038 [15:20<00:52, 23.26it/s][21:53:30] Explicit valence for atom # 1386 O, 3, is greater than permitted\n",
      " 83%|████████▎ | 5820/7038 [15:20<00:53, 22.56it/s]"
     ]
    },
    {
     "name": "stdout",
     "output_type": "stream",
     "text": [
      "1EAK.pdb\n",
      "1RVF.pdb\n"
     ]
    },
    {
     "name": "stderr",
     "output_type": "stream",
     "text": [
      " 83%|████████▎ | 5832/7038 [15:21<01:03, 18.87it/s][21:53:31] Explicit valence for atom # 2513 C, 5, is greater than permitted\n",
      " 83%|████████▎ | 5837/7038 [15:22<01:13, 16.31it/s]"
     ]
    },
    {
     "name": "stdout",
     "output_type": "stream",
     "text": [
      "1GSE.pdb\n"
     ]
    },
    {
     "name": "stderr",
     "output_type": "stream",
     "text": [
      " 83%|████████▎ | 5857/7038 [15:23<01:02, 18.95it/s][21:53:33] Explicit valence for atom # 14409 Mg, 4, is greater than permitted\n",
      " 83%|████████▎ | 5863/7038 [15:23<01:00, 19.42it/s]"
     ]
    },
    {
     "name": "stdout",
     "output_type": "stream",
     "text": [
      "1VF5.pdb\n"
     ]
    },
    {
     "name": "stderr",
     "output_type": "stream",
     "text": [
      " 84%|████████▍ | 5896/7038 [15:24<01:05, 17.33it/s][21:53:34] Explicit valence for atom # 25 O, 3, is greater than permitted\n",
      " 84%|████████▍ | 5901/7038 [15:25<01:11, 15.80it/s]"
     ]
    },
    {
     "name": "stdout",
     "output_type": "stream",
     "text": [
      "2SPT.pdb\n"
     ]
    },
    {
     "name": "stderr",
     "output_type": "stream",
     "text": [
      " 84%|████████▍ | 5905/7038 [15:25<01:20, 14.06it/s][21:53:35] Explicit valence for atom # 1878 O, 3, is greater than permitted\n",
      " 84%|████████▍ | 5911/7038 [15:25<00:57, 19.46it/s]"
     ]
    },
    {
     "name": "stdout",
     "output_type": "stream",
     "text": [
      "1KIG.pdb\n"
     ]
    },
    {
     "name": "stderr",
     "output_type": "stream",
     "text": [
      " 84%|████████▍ | 5943/7038 [15:27<01:02, 17.52it/s][21:53:38] Explicit valence for atom # 3 O, 3, is greater than permitted\n",
      " 85%|████████▍ | 5949/7038 [15:28<01:31, 11.89it/s]"
     ]
    },
    {
     "name": "stdout",
     "output_type": "stream",
     "text": [
      "1YRT.pdb\n"
     ]
    },
    {
     "name": "stderr",
     "output_type": "stream",
     "text": [
      " 85%|████████▍ | 5962/7038 [15:30<02:05,  8.59it/s][21:53:40] Explicit valence for atom # 3760 O, 3, is greater than permitted\n",
      " 85%|████████▍ | 5968/7038 [15:31<01:32, 11.52it/s]"
     ]
    },
    {
     "name": "stdout",
     "output_type": "stream",
     "text": [
      "2D00.pdb\n"
     ]
    },
    {
     "name": "stderr",
     "output_type": "stream",
     "text": [
      "[21:53:41] Explicit valence for atom # 259 O, 3, is greater than permitted\n",
      " 85%|████████▍ | 5974/7038 [15:31<01:31, 11.66it/s]"
     ]
    },
    {
     "name": "stdout",
     "output_type": "stream",
     "text": [
      "2BPA.pdb\n"
     ]
    },
    {
     "name": "stderr",
     "output_type": "stream",
     "text": [
      " 85%|████████▌ | 5987/7038 [15:32<01:11, 14.68it/s][21:53:42] Explicit valence for atom # 1212 C, 5, is greater than permitted\n",
      " 85%|████████▌ | 5991/7038 [15:32<00:55, 19.00it/s]"
     ]
    },
    {
     "name": "stdout",
     "output_type": "stream",
     "text": [
      "1LDJ.pdb\n"
     ]
    },
    {
     "name": "stderr",
     "output_type": "stream",
     "text": [
      " 86%|████████▌ | 6029/7038 [15:35<01:13, 13.81it/s][21:53:45] Explicit valence for atom # 1338 O, 5, is greater than permitted\n",
      " 86%|████████▌ | 6037/7038 [15:35<00:58, 17.09it/s]"
     ]
    },
    {
     "name": "stdout",
     "output_type": "stream",
     "text": [
      "1IZL.pdb\n"
     ]
    },
    {
     "name": "stderr",
     "output_type": "stream",
     "text": [
      " 86%|████████▌ | 6066/7038 [15:37<00:45, 21.21it/s][21:53:47] Explicit valence for atom # 238 O, 3, is greater than permitted\n",
      " 86%|████████▌ | 6069/7038 [15:37<00:51, 18.77it/s][21:53:47] Explicit valence for atom # 345 O, 3, is greater than permitted\n",
      " 86%|████████▋ | 6076/7038 [15:37<00:33, 28.40it/s]"
     ]
    },
    {
     "name": "stdout",
     "output_type": "stream",
     "text": [
      "1V6P.pdb\n",
      "1O7Y.pdb\n"
     ]
    },
    {
     "name": "stderr",
     "output_type": "stream",
     "text": [
      " 87%|████████▋ | 6088/7038 [15:38<00:40, 23.19it/s][21:53:48] Explicit valence for atom # 4573 O, 3, is greater than permitted\n",
      " 87%|████████▋ | 6097/7038 [15:38<00:58, 16.11it/s]"
     ]
    },
    {
     "name": "stdout",
     "output_type": "stream",
     "text": [
      "1VQ0.pdb\n"
     ]
    },
    {
     "name": "stderr",
     "output_type": "stream",
     "text": [
      "[21:53:48] Explicit valence for atom # 264 O, 3, is greater than permitted\n",
      " 87%|████████▋ | 6102/7038 [15:39<00:57, 16.16it/s]"
     ]
    },
    {
     "name": "stdout",
     "output_type": "stream",
     "text": [
      "1YSH.pdb\n"
     ]
    },
    {
     "name": "stderr",
     "output_type": "stream",
     "text": [
      " 87%|████████▋ | 6105/7038 [15:39<01:10, 13.15it/s][21:53:49] WARNING: not removing hydrogen atom without neighbors\n",
      "[21:53:49] Explicit valence for atom # 1088 O, 3, is greater than permitted\n",
      " 87%|████████▋ | 6112/7038 [15:39<01:07, 13.73it/s][21:53:49] WARNING: not removing hydrogen atom without neighbors\n",
      "[21:53:49] Explicit valence for atom # 0 N, 13, is greater than permitted\n",
      " 87%|████████▋ | 6115/7038 [15:40<01:09, 13.21it/s]"
     ]
    },
    {
     "name": "stdout",
     "output_type": "stream",
     "text": [
      "1U5S.pdb\n",
      "1HDP.pdb\n"
     ]
    },
    {
     "name": "stderr",
     "output_type": "stream",
     "text": [
      " 88%|████████▊ | 6164/7038 [15:45<01:44,  8.32it/s][21:53:55] Explicit valence for atom # 4653 O, 3, is greater than permitted\n",
      " 88%|████████▊ | 6168/7038 [15:45<01:10, 12.42it/s][21:53:55] WARNING: not removing hydrogen atom without neighbors\n",
      "[21:53:55] WARNING: not removing hydrogen atom without neighbors\n",
      "[21:53:55] WARNING: not removing hydrogen atom without neighbors\n",
      "[21:53:55] WARNING: not removing hydrogen atom without neighbors\n",
      "[21:53:55] WARNING: not removing hydrogen atom without neighbors\n",
      "[21:53:55] WARNING: not removing hydrogen atom without neighbors\n",
      "[21:53:55] WARNING: not removing hydrogen atom without neighbors\n",
      "[21:53:55] WARNING: not removing hydrogen atom without neighbors\n",
      "[21:53:55] WARNING: not removing hydrogen atom without neighbors\n",
      "[21:53:55] WARNING: not removing hydrogen atom without neighbors\n",
      "[21:53:55] WARNING: not removing hydrogen atom without neighbors\n",
      "[21:53:55] WARNING: not removing hydrogen atom without neighbors\n",
      "[21:53:55] WARNING: not removing hydrogen atom without neighbors\n",
      "[21:53:55] WARNING: not removing hydrogen atom without neighbors\n",
      "[21:53:55] WARNING: not removing hydrogen atom without neighbors\n"
     ]
    },
    {
     "name": "stdout",
     "output_type": "stream",
     "text": [
      "1OAU.pdb\n"
     ]
    },
    {
     "name": "stderr",
     "output_type": "stream",
     "text": [
      " 88%|████████▊ | 6180/7038 [15:46<01:38,  8.71it/s][21:53:56] Explicit valence for atom # 5942 Be, 3, is greater than permitted\n",
      " 88%|████████▊ | 6183/7038 [15:47<01:32,  9.25it/s]"
     ]
    },
    {
     "name": "stdout",
     "output_type": "stream",
     "text": [
      "1LVK.pdb\n"
     ]
    },
    {
     "name": "stderr",
     "output_type": "stream",
     "text": [
      " 88%|████████▊ | 6193/7038 [15:48<01:24,  9.94it/s][21:53:58] Explicit valence for atom # 2479 O, 3, is greater than permitted\n",
      " 88%|████████▊ | 6195/7038 [15:48<01:17, 10.85it/s][21:53:58] \n",
      "\n",
      "****\n",
      "Post-condition Violation\n",
      "Element 'X' not found\n",
      "Violation occurred on line 93 in file /home/conda/feedstock_root/build_artifacts/rdkit_1651075175949/work/Code/GraphMol/PeriodicTable.h\n",
      "Failed Expression: anum > -1\n",
      "****\n",
      "\n",
      " 88%|████████▊ | 6199/7038 [15:48<01:32,  9.04it/s]"
     ]
    },
    {
     "name": "stdout",
     "output_type": "stream",
     "text": [
      "1FHV.pdb\n",
      "1ZGH.pdb\n"
     ]
    },
    {
     "name": "stderr",
     "output_type": "stream",
     "text": [
      " 88%|████████▊ | 6203/7038 [15:48<01:21, 10.21it/s][21:53:58] Explicit valence for atom # 3699 O, 3, is greater than permitted\n",
      " 88%|████████▊ | 6207/7038 [15:49<01:06, 12.43it/s]"
     ]
    },
    {
     "name": "stdout",
     "output_type": "stream",
     "text": [
      "1ZA3.pdb\n"
     ]
    },
    {
     "name": "stderr",
     "output_type": "stream",
     "text": [
      " 88%|████████▊ | 6222/7038 [15:50<01:15, 10.87it/s][21:54:00] Explicit valence for atom # 7561 O, 3, is greater than permitted\n",
      " 88%|████████▊ | 6227/7038 [15:50<01:02, 13.07it/s]"
     ]
    },
    {
     "name": "stdout",
     "output_type": "stream",
     "text": [
      "1Z3G.pdb\n"
     ]
    },
    {
     "name": "stderr",
     "output_type": "stream",
     "text": [
      " 89%|████████▊ | 6231/7038 [15:51<01:47,  7.53it/s][21:54:01] Explicit valence for atom # 23 O, 3, is greater than permitted\n",
      " 89%|████████▊ | 6233/7038 [15:51<01:33,  8.64it/s]"
     ]
    },
    {
     "name": "stdout",
     "output_type": "stream",
     "text": [
      "1MNY.pdb\n"
     ]
    },
    {
     "name": "stderr",
     "output_type": "stream",
     "text": [
      " 89%|████████▊ | 6235/7038 [15:52<01:51,  7.22it/s][21:54:03] Explicit valence for atom # 24097 O, 3, is greater than permitted\n",
      " 89%|████████▊ | 6240/7038 [15:53<02:49,  4.72it/s]"
     ]
    },
    {
     "name": "stdout",
     "output_type": "stream",
     "text": [
      "1JJ2.pdb\n"
     ]
    },
    {
     "name": "stderr",
     "output_type": "stream",
     "text": [
      " 90%|█████████ | 6366/7038 [16:07<00:49, 13.46it/s][21:54:17] Explicit valence for atom # 2324 O, 3, is greater than permitted\n",
      " 91%|█████████ | 6374/7038 [16:08<00:47, 14.07it/s]"
     ]
    },
    {
     "name": "stdout",
     "output_type": "stream",
     "text": [
      "1OYW.pdb\n"
     ]
    },
    {
     "name": "stderr",
     "output_type": "stream",
     "text": [
      " 91%|█████████ | 6401/7038 [16:09<00:40, 15.88it/s][21:54:19] Explicit valence for atom # 219 O, 3, is greater than permitted\n",
      " 91%|█████████ | 6406/7038 [16:10<00:36, 17.13it/s]"
     ]
    },
    {
     "name": "stdout",
     "output_type": "stream",
     "text": [
      "1OB1.pdb\n"
     ]
    },
    {
     "name": "stderr",
     "output_type": "stream",
     "text": [
      " 91%|█████████ | 6416/7038 [16:10<00:28, 21.64it/s][21:54:20] Explicit valence for atom # 161 C, 5, is greater than permitted\n",
      " 91%|█████████ | 6419/7038 [16:10<00:31, 19.95it/s]"
     ]
    },
    {
     "name": "stdout",
     "output_type": "stream",
     "text": [
      "1ETG.pdb\n"
     ]
    },
    {
     "name": "stderr",
     "output_type": "stream",
     "text": [
      " 91%|█████████ | 6422/7038 [16:10<00:36, 16.75it/s][21:54:20] Explicit valence for atom # 2250 Mg, 4, is greater than permitted\n",
      " 91%|█████████▏| 6430/7038 [16:11<00:27, 22.41it/s]"
     ]
    },
    {
     "name": "stdout",
     "output_type": "stream",
     "text": [
      "1NKZ.pdb\n"
     ]
    },
    {
     "name": "stderr",
     "output_type": "stream",
     "text": [
      " 91%|█████████▏| 6436/7038 [16:11<00:27, 22.24it/s][21:54:21] Explicit valence for atom # 1664 C, 5, is greater than permitted\n",
      " 92%|█████████▏| 6447/7038 [16:11<00:26, 22.66it/s]"
     ]
    },
    {
     "name": "stdout",
     "output_type": "stream",
     "text": [
      "1LI5.pdb\n"
     ]
    },
    {
     "name": "stderr",
     "output_type": "stream",
     "text": [
      "[21:54:21] Explicit valence for atom # 2126 O, 3, is greater than permitted\n",
      " 92%|█████████▏| 6454/7038 [16:12<00:22, 25.99it/s]"
     ]
    },
    {
     "name": "stdout",
     "output_type": "stream",
     "text": [
      "1Y8T.pdb\n"
     ]
    },
    {
     "name": "stderr",
     "output_type": "stream",
     "text": [
      " 93%|█████████▎| 6539/7038 [16:48<00:54,  9.12it/s][21:54:58] Explicit valence for atom # 10518 O, 3, is greater than permitted\n",
      " 93%|█████████▎| 6545/7038 [16:48<00:38, 12.78it/s]"
     ]
    },
    {
     "name": "stdout",
     "output_type": "stream",
     "text": [
      "1L0L.pdb\n"
     ]
    },
    {
     "name": "stderr",
     "output_type": "stream",
     "text": [
      " 93%|█████████▎| 6554/7038 [16:49<00:30, 16.02it/s][21:54:59] Explicit valence for atom # 3859 C, 5, is greater than permitted\n",
      " 93%|█████████▎| 6557/7038 [16:49<00:35, 13.43it/s]"
     ]
    },
    {
     "name": "stdout",
     "output_type": "stream",
     "text": [
      "1FBV.pdb\n"
     ]
    },
    {
     "name": "stderr",
     "output_type": "stream",
     "text": [
      " 93%|█████████▎| 6569/7038 [16:51<00:40, 11.68it/s][21:55:01] Explicit valence for atom # 835 O, 3, is greater than permitted\n",
      " 93%|█████████▎| 6573/7038 [16:51<00:29, 16.03it/s]"
     ]
    },
    {
     "name": "stdout",
     "output_type": "stream",
     "text": [
      "1EOF.pdb\n"
     ]
    },
    {
     "name": "stderr",
     "output_type": "stream",
     "text": [
      " 94%|█████████▍| 6627/7038 [16:55<00:23, 17.62it/s][21:55:05] Explicit valence for atom # 5902 O, 3, is greater than permitted\n",
      " 94%|█████████▍| 6632/7038 [16:55<00:26, 15.33it/s]"
     ]
    },
    {
     "name": "stdout",
     "output_type": "stream",
     "text": [
      "1NFD.pdb\n"
     ]
    },
    {
     "name": "stderr",
     "output_type": "stream",
     "text": [
      " 95%|█████████▍| 6667/7038 [16:57<00:36, 10.18it/s][21:55:07] Explicit valence for atom # 3 O, 3, is greater than permitted\n",
      " 95%|█████████▍| 6674/7038 [16:57<00:21, 16.60it/s][21:55:07] Explicit valence for atom # 1366 C, 5, is greater than permitted\n",
      " 95%|█████████▍| 6678/7038 [16:58<00:22, 15.98it/s]"
     ]
    },
    {
     "name": "stdout",
     "output_type": "stream",
     "text": [
      "1CMK.pdb\n",
      "1DU3.pdb\n"
     ]
    },
    {
     "name": "stderr",
     "output_type": "stream",
     "text": [
      " 95%|█████████▌| 6704/7038 [16:59<00:16, 20.72it/s][21:55:09] Explicit valence for atom # 3021 O, 3, is greater than permitted\n",
      " 95%|█████████▌| 6707/7038 [16:59<00:15, 20.80it/s][21:55:09] Explicit valence for atom # 572 O, 3, is greater than permitted\n",
      " 95%|█████████▌| 6712/7038 [16:59<00:12, 26.96it/s]"
     ]
    },
    {
     "name": "stdout",
     "output_type": "stream",
     "text": [
      "1VK8.pdb\n",
      "1U58.pdb\n"
     ]
    },
    {
     "name": "stderr",
     "output_type": "stream",
     "text": [
      " 97%|█████████▋| 6804/7038 [17:04<00:12, 19.46it/s][21:55:14] Explicit valence for atom # 6900 Be, 3, is greater than permitted\n",
      " 97%|█████████▋| 6807/7038 [17:04<00:12, 17.85it/s][21:55:14] Explicit valence for atom # 2253 C, 5, is greater than permitted\n",
      " 97%|█████████▋| 6810/7038 [17:04<00:13, 17.29it/s]"
     ]
    },
    {
     "name": "stdout",
     "output_type": "stream",
     "text": [
      "1W7J.pdb\n",
      "1N62.pdb\n"
     ]
    },
    {
     "name": "stderr",
     "output_type": "stream",
     "text": [
      "[21:55:14] Explicit valence for atom # 11 O, 3, is greater than permitted\n",
      " 97%|█████████▋| 6816/7038 [17:04<00:09, 23.62it/s]"
     ]
    },
    {
     "name": "stdout",
     "output_type": "stream",
     "text": [
      "1PAV.pdb\n"
     ]
    },
    {
     "name": "stderr",
     "output_type": "stream",
     "text": [
      " 97%|█████████▋| 6834/7038 [17:05<00:10, 19.41it/s][21:55:15] Explicit valence for atom # 92 C, 7, is greater than permitted\n",
      " 97%|█████████▋| 6837/7038 [17:05<00:09, 21.01it/s][21:55:15] WARNING: not removing hydrogen atom without neighbors\n",
      "[21:55:15] WARNING: not removing hydrogen atom without neighbors\n",
      "[21:55:15] WARNING: not removing hydrogen atom without neighbors\n",
      "[21:55:15] Explicit valence for atom # 656 C, 5, is greater than permitted\n",
      " 97%|█████████▋| 6840/7038 [17:06<00:09, 21.08it/s]"
     ]
    },
    {
     "name": "stdout",
     "output_type": "stream",
     "text": [
      "1B53.pdb\n",
      "1L8Z.pdb\n"
     ]
    },
    {
     "name": "stderr",
     "output_type": "stream",
     "text": [
      " 97%|█████████▋| 6860/7038 [17:06<00:08, 21.65it/s][21:55:16] Explicit valence for atom # 119 C, 8, is greater than permitted\n",
      " 98%|█████████▊| 6863/7038 [17:07<00:08, 21.38it/s]"
     ]
    },
    {
     "name": "stdout",
     "output_type": "stream",
     "text": [
      "1SUT.pdb\n"
     ]
    },
    {
     "name": "stderr",
     "output_type": "stream",
     "text": [
      " 98%|█████████▊| 6932/7038 [17:12<00:08, 12.58it/s][21:55:22] Explicit valence for atom # 3122 O, 3, is greater than permitted\n",
      " 99%|█████████▊| 6936/7038 [17:12<00:07, 13.62it/s]"
     ]
    },
    {
     "name": "stdout",
     "output_type": "stream",
     "text": [
      "2HOH.pdb\n"
     ]
    },
    {
     "name": "stderr",
     "output_type": "stream",
     "text": [
      " 99%|█████████▊| 6945/7038 [17:13<00:04, 21.06it/s][21:55:23] Explicit valence for atom # 4600 C, 5, is greater than permitted\n",
      " 99%|█████████▊| 6949/7038 [17:13<00:03, 24.66it/s]"
     ]
    },
    {
     "name": "stdout",
     "output_type": "stream",
     "text": [
      "1OJN.pdb\n"
     ]
    },
    {
     "name": "stderr",
     "output_type": "stream",
     "text": [
      " 99%|█████████▉| 6963/7038 [17:14<00:05, 14.61it/s][21:55:24] Explicit valence for atom # 10431 C, 5, is greater than permitted\n",
      " 99%|█████████▉| 6970/7038 [17:15<00:04, 15.12it/s]"
     ]
    },
    {
     "name": "stdout",
     "output_type": "stream",
     "text": [
      "1P3L.pdb\n"
     ]
    },
    {
     "name": "stderr",
     "output_type": "stream",
     "text": [
      " 99%|█████████▉| 6996/7038 [17:17<00:02, 14.85it/s][21:55:27] Explicit valence for atom # 1872 O, 4, is greater than permitted\n",
      "100%|█████████▉| 7004/7038 [17:17<00:01, 21.93it/s][21:55:27] Explicit valence for atom # 374 O, 3, is greater than permitted\n",
      "100%|█████████▉| 7007/7038 [17:17<00:01, 18.72it/s]"
     ]
    },
    {
     "name": "stdout",
     "output_type": "stream",
     "text": [
      "1M06.pdb\n",
      "1BFX.pdb\n"
     ]
    },
    {
     "name": "stderr",
     "output_type": "stream",
     "text": [
      "100%|██████████| 7038/7038 [17:19<00:00,  6.77it/s]\n"
     ]
    }
   ],
   "source": [
    "for pdb in tqdm(pdb_list):\n",
    "    pdb_path = os.path.join(pdb_dir, pdb)\n",
    "    protein = Chem.MolFromPDBFile(pdb_path)\n",
    "    try:\n",
    "        residue = [atom.GetPDBResidueInfo().GetResidueName() for atom in protein.GetAtoms()]\n",
    "        residue = list(set(residue))\n",
    "        for i in residue:\n",
    "            if i not in aa_dict and i not in naa_dict:\n",
    "                naa_dict[i] = start_idx\n",
    "                start_idx += 1\n",
    "    except:\n",
    "        print(pdb)\n",
    "        invalid_pdb_list.append(pdb)\n",
    "        continue\n",
    "    "
   ]
  },
  {
   "cell_type": "code",
   "execution_count": 17,
   "metadata": {},
   "outputs": [],
   "source": [
    "# take the value from invalid_pdb_list and remove it from pdb_list\n",
    "for i in invalid_pdb_list:\n",
    "    pdb_list.remove(i)"
   ]
  },
  {
   "cell_type": "code",
   "execution_count": 18,
   "metadata": {},
   "outputs": [],
   "source": [
    "# write pdb_list to a file\n",
    "with open('data/pdb_list.txt', 'w') as f:\n",
    "    for pdb in pdb_list:\n",
    "        f.write(pdb + '\\n')\n",
    "    f.close()"
   ]
  },
  {
   "cell_type": "code",
   "execution_count": 21,
   "metadata": {},
   "outputs": [],
   "source": [
    "with open('naa_amino_acid_dict.json', 'w') as f:\n",
    "    json.dump(naa_dict, f)\n",
    "    f.close()"
   ]
  }
 ],
 "metadata": {
  "kernelspec": {
   "display_name": "targetdiff",
   "language": "python",
   "name": "python3"
  },
  "language_info": {
   "codemirror_mode": {
    "name": "ipython",
    "version": 3
   },
   "file_extension": ".py",
   "mimetype": "text/x-python",
   "name": "python",
   "nbconvert_exporter": "python",
   "pygments_lexer": "ipython3",
   "version": "3.8.18"
  }
 },
 "nbformat": 4,
 "nbformat_minor": 2
}
